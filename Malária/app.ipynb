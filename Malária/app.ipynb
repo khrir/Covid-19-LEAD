{
 "cells": [
  {
   "cell_type": "code",
   "execution_count": 103,
   "metadata": {},
   "outputs": [],
   "source": [
    "# imports\n",
    "import pandas as pd\n",
    "import numpy as np"
   ]
  },
  {
   "cell_type": "code",
   "execution_count": 104,
   "metadata": {},
   "outputs": [
    {
     "data": {
      "text/html": [
       "<div>\n",
       "<style scoped>\n",
       "    .dataframe tbody tr th:only-of-type {\n",
       "        vertical-align: middle;\n",
       "    }\n",
       "\n",
       "    .dataframe tbody tr th {\n",
       "        vertical-align: top;\n",
       "    }\n",
       "\n",
       "    .dataframe thead th {\n",
       "        text-align: right;\n",
       "    }\n",
       "</style>\n",
       "<table border=\"1\" class=\"dataframe\">\n",
       "  <thead>\n",
       "    <tr style=\"text-align: right;\">\n",
       "      <th></th>\n",
       "      <th>BR Cod Mun Infecção</th>\n",
       "      <th>NM MUN (MUNINF.csv)</th>\n",
       "      <th>Year of BR Data de Notificação</th>\n",
       "      <th>Number of Records</th>\n",
       "    </tr>\n",
       "  </thead>\n",
       "  <tbody>\n",
       "    <tr>\n",
       "      <th>0</th>\n",
       "      <td>110001</td>\n",
       "      <td>Alta Floresta D'Oeste</td>\n",
       "      <td>2018</td>\n",
       "      <td>2</td>\n",
       "    </tr>\n",
       "    <tr>\n",
       "      <th>1</th>\n",
       "      <td>110001</td>\n",
       "      <td>Alta Floresta D'Oeste</td>\n",
       "      <td>2017</td>\n",
       "      <td>2</td>\n",
       "    </tr>\n",
       "    <tr>\n",
       "      <th>2</th>\n",
       "      <td>110001</td>\n",
       "      <td>Alta Floresta D'Oeste</td>\n",
       "      <td>2016</td>\n",
       "      <td>6</td>\n",
       "    </tr>\n",
       "    <tr>\n",
       "      <th>3</th>\n",
       "      <td>110001</td>\n",
       "      <td>Alta Floresta D'Oeste</td>\n",
       "      <td>2015</td>\n",
       "      <td>30</td>\n",
       "    </tr>\n",
       "    <tr>\n",
       "      <th>4</th>\n",
       "      <td>110001</td>\n",
       "      <td>Alta Floresta D'Oeste</td>\n",
       "      <td>2014</td>\n",
       "      <td>79</td>\n",
       "    </tr>\n",
       "  </tbody>\n",
       "</table>\n",
       "</div>"
      ],
      "text/plain": [
       "   BR Cod Mun Infecção    NM MUN (MUNINF.csv)  Year of BR Data de Notificação  \\\n",
       "0               110001  Alta Floresta D'Oeste                            2018   \n",
       "1               110001  Alta Floresta D'Oeste                            2017   \n",
       "2               110001  Alta Floresta D'Oeste                            2016   \n",
       "3               110001  Alta Floresta D'Oeste                            2015   \n",
       "4               110001  Alta Floresta D'Oeste                            2014   \n",
       "\n",
       "   Number of Records  \n",
       "0                  2  \n",
       "1                  2  \n",
       "2                  6  \n",
       "3                 30  \n",
       "4                 79  "
      ]
     },
     "execution_count": 104,
     "metadata": {},
     "output_type": "execute_result"
    }
   ],
   "source": [
    "df = pd.read_csv(\"Serie-casos-2018.csv\")\n",
    "df.head()"
   ]
  },
  {
   "cell_type": "code",
   "execution_count": 105,
   "metadata": {},
   "outputs": [],
   "source": [
    "# Renomeando as colunas\n",
    "df.rename(columns={'BR Cod Mun Infecção':'Codigo', 'NM MUN (MUNINF.csv)':'Municipio',\n",
    "                 'Year of BR Data de Notificação':'Ano', 'Number of Records':'Casos'},\n",
    "         inplace=True)"
   ]
  },
  {
   "cell_type": "code",
   "execution_count": 106,
   "metadata": {},
   "outputs": [
    {
     "data": {
      "text/plain": [
       "Presidente Médici          16\n",
       "Rio Branco                 13\n",
       "Tapauá                     12\n",
       "Tonantins                  12\n",
       "Uarini                     12\n",
       "                           ..\n",
       "Glória D'Oeste              1\n",
       "Governador Edison Lobão     1\n",
       "Graça Aranha                1\n",
       "Dom Aquino                  1\n",
       "Couto Magalhães             1\n",
       "Name: Municipio, Length: 652, dtype: int64"
      ]
     },
     "execution_count": 106,
     "metadata": {},
     "output_type": "execute_result"
    }
   ],
   "source": [
    "df['Municipio'].value_counts()"
   ]
  },
  {
   "cell_type": "code",
   "execution_count": 107,
   "metadata": {},
   "outputs": [
    {
     "data": {
      "text/html": [
       "<div>\n",
       "<style scoped>\n",
       "    .dataframe tbody tr th:only-of-type {\n",
       "        vertical-align: middle;\n",
       "    }\n",
       "\n",
       "    .dataframe tbody tr th {\n",
       "        vertical-align: top;\n",
       "    }\n",
       "\n",
       "    .dataframe thead th {\n",
       "        text-align: right;\n",
       "    }\n",
       "</style>\n",
       "<table border=\"1\" class=\"dataframe\">\n",
       "  <thead>\n",
       "    <tr style=\"text-align: right;\">\n",
       "      <th></th>\n",
       "      <th>mean</th>\n",
       "      <th>median</th>\n",
       "      <th>sum</th>\n",
       "    </tr>\n",
       "    <tr>\n",
       "      <th>Municipio</th>\n",
       "      <th></th>\n",
       "      <th></th>\n",
       "      <th></th>\n",
       "    </tr>\n",
       "  </thead>\n",
       "  <tbody>\n",
       "    <tr>\n",
       "      <th>Abaetetuba</th>\n",
       "      <td>3.818182</td>\n",
       "      <td>4.0</td>\n",
       "      <td>42</td>\n",
       "    </tr>\n",
       "    <tr>\n",
       "      <th>Abel Figueiredo</th>\n",
       "      <td>3.142857</td>\n",
       "      <td>2.0</td>\n",
       "      <td>22</td>\n",
       "    </tr>\n",
       "    <tr>\n",
       "      <th>Acará</th>\n",
       "      <td>7.800000</td>\n",
       "      <td>7.5</td>\n",
       "      <td>78</td>\n",
       "    </tr>\n",
       "    <tr>\n",
       "      <th>Acorizal</th>\n",
       "      <td>1.750000</td>\n",
       "      <td>1.5</td>\n",
       "      <td>7</td>\n",
       "    </tr>\n",
       "    <tr>\n",
       "      <th>Acrelândia</th>\n",
       "      <td>197.000000</td>\n",
       "      <td>96.5</td>\n",
       "      <td>2364</td>\n",
       "    </tr>\n",
       "    <tr>\n",
       "      <th>...</th>\n",
       "      <td>...</td>\n",
       "      <td>...</td>\n",
       "      <td>...</td>\n",
       "    </tr>\n",
       "    <tr>\n",
       "      <th>Zé Doca</th>\n",
       "      <td>46.500000</td>\n",
       "      <td>14.5</td>\n",
       "      <td>465</td>\n",
       "    </tr>\n",
       "    <tr>\n",
       "      <th>Água Azul do Norte</th>\n",
       "      <td>2.428571</td>\n",
       "      <td>2.0</td>\n",
       "      <td>17</td>\n",
       "    </tr>\n",
       "    <tr>\n",
       "      <th>Água Boa</th>\n",
       "      <td>15.000000</td>\n",
       "      <td>14.0</td>\n",
       "      <td>60</td>\n",
       "    </tr>\n",
       "    <tr>\n",
       "      <th>Água Doce do Maranhão</th>\n",
       "      <td>1.000000</td>\n",
       "      <td>1.0</td>\n",
       "      <td>3</td>\n",
       "    </tr>\n",
       "    <tr>\n",
       "      <th>Óbidos</th>\n",
       "      <td>112.666667</td>\n",
       "      <td>109.0</td>\n",
       "      <td>1352</td>\n",
       "    </tr>\n",
       "  </tbody>\n",
       "</table>\n",
       "<p>652 rows × 3 columns</p>\n",
       "</div>"
      ],
      "text/plain": [
       "                             mean  median   sum\n",
       "Municipio                                      \n",
       "Abaetetuba               3.818182     4.0    42\n",
       "Abel Figueiredo          3.142857     2.0    22\n",
       "Acará                    7.800000     7.5    78\n",
       "Acorizal                 1.750000     1.5     7\n",
       "Acrelândia             197.000000    96.5  2364\n",
       "...                           ...     ...   ...\n",
       "Zé Doca                 46.500000    14.5   465\n",
       "Água Azul do Norte       2.428571     2.0    17\n",
       "Água Boa                15.000000    14.0    60\n",
       "Água Doce do Maranhão    1.000000     1.0     3\n",
       "Óbidos                 112.666667   109.0  1352\n",
       "\n",
       "[652 rows x 3 columns]"
      ]
     },
     "execution_count": 107,
     "metadata": {},
     "output_type": "execute_result"
    }
   ],
   "source": [
    "# Agrupando por município para calcular a média e mediana de cada cidade durante o período\n",
    "grouped = df.groupby('Municipio')\n",
    "\n",
    "newCSV = grouped['Casos'].agg([np.mean, np.median, np.sum])\n",
    "newCSV"
   ]
  },
  {
   "cell_type": "code",
   "execution_count": 108,
   "metadata": {},
   "outputs": [],
   "source": [
    "# Escrevendo um novo arquivo csv\n",
    "newCSV.to_csv(\"Serie-casos-mod.csv\")"
   ]
  },
  {
   "cell_type": "markdown",
   "metadata": {},
   "source": [
    "# Cluterização"
   ]
  },
  {
   "cell_type": "code",
   "execution_count": 109,
   "metadata": {},
   "outputs": [],
   "source": [
    "from matplotlib import pyplot as plt\n",
    "from sklearn.cluster import KMeans\n"
   ]
  },
  {
   "cell_type": "code",
   "execution_count": 167,
   "metadata": {},
   "outputs": [
    {
     "data": {
      "text/plain": [
       "Municipio          Óbidos\n",
       "mean         17388.416667\n",
       "median            16627.0\n",
       "sum                208661\n",
       "dtype: object"
      ]
     },
     "execution_count": 167,
     "metadata": {},
     "output_type": "execute_result"
    }
   ],
   "source": [
    "data = pd.read_csv(\"Serie-casos-mod.csv\")\n",
    "\n",
    "X = data.values[:,1:]\n",
    "X = np.nan_to_num(X)\n",
    "data.max()"
   ]
  },
  {
   "cell_type": "code",
   "execution_count": 164,
   "metadata": {},
   "outputs": [
    {
     "data": {
      "text/plain": [
       "<function matplotlib.pyplot.show(close=None, block=None)>"
      ]
     },
     "execution_count": 164,
     "metadata": {},
     "output_type": "execute_result"
    },
    {
     "data": {
      "image/png": "[encoded data removed]",
      "text/plain": [
       "<Figure size 432x288 with 1 Axes>"
      ]
     },
     "metadata": {
      "needs_background": "light"
     },
     "output_type": "display_data"
    }
   ],
   "source": [
    "k_means = KMeans(init = \"k-means++\", n_clusters = 5, n_init = 10, max_iter=300)\n",
    "pred_y = k_means.fit_predict(X)\n",
    "plt.scatter(X[:,1], X[:,0], c = pred_y)\n",
    "plt.grid()\n",
    "plt.scatter(k_means.cluster_centers_[:,1], k_means.cluster_centers_[:,0], s=70, c='red')\n",
    "plt.show"
   ]
  },
  {
   "cell_type": "code",
   "execution_count": 160,
   "metadata": {},
   "outputs": [
    {
     "data": {
      "text/plain": [
       "<function matplotlib.pyplot.show(close=None, block=None)>"
      ]
     },
     "execution_count": 160,
     "metadata": {},
     "output_type": "execute_result"
    },
    {
     "data": {
      "image/png": "[encoded data removed]",
      "text/plain": [
       "<Figure size 432x288 with 1 Axes>"
      ]
     },
     "metadata": {
      "needs_background": "light"
     },
     "output_type": "display_data"
    }
   ],
   "source": [
    "k_means = KMeans(init = \"random\", n_clusters = 5, n_init = 10, max_iter=100)\n",
    "pred_y = k_means.fit_predict(X)\n",
    "plt.scatter(X[:,1], X[:,0], c = pred_y)\n",
    "plt.grid()\n",
    "plt.scatter(k_means.cluster_centers_[:,1], k_means.cluster_centers_[:,0], s=70, c='red')\n",
    "plt.show"
   ]
  }
 ],
 "metadata": {
  "interpreter": {
   "hash": "916dbcbb3f70747c44a77c7bcd40155683ae19c65e1c03b4aa3499c5328201f1"
  },
  "kernelspec": {
   "display_name": "Python 3.8.10 64-bit",
   "language": "python",
   "name": "python3"
  },
  "language_info": {
   "codemirror_mode": {
    "name": "ipython",
    "version": 3
   },
   "file_extension": ".py",
   "mimetype": "text/x-python",
   "name": "python",
   "nbconvert_exporter": "python",
   "pygments_lexer": "ipython3",
   "version": "3.8.10"
  },
  "orig_nbformat": 4
 },
 "nbformat": 4,
 "nbformat_minor": 2
}
