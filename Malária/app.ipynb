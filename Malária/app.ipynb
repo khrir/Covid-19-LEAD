{
 "cells": [
  {
   "cell_type": "code",
   "execution_count": 72,
   "metadata": {},
   "outputs": [],
   "source": [
    "# imports\n",
    "import pandas as pd\n",
    "import numpy as np"
   ]
  },
  {
   "cell_type": "code",
   "execution_count": 73,
   "metadata": {},
   "outputs": [
    {
     "data": {
      "text/html": [
       "<div>\n",
       "<style scoped>\n",
       "    .dataframe tbody tr th:only-of-type {\n",
       "        vertical-align: middle;\n",
       "    }\n",
       "\n",
       "    .dataframe tbody tr th {\n",
       "        vertical-align: top;\n",
       "    }\n",
       "\n",
       "    .dataframe thead th {\n",
       "        text-align: right;\n",
       "    }\n",
       "</style>\n",
       "<table border=\"1\" class=\"dataframe\">\n",
       "  <thead>\n",
       "    <tr style=\"text-align: right;\">\n",
       "      <th></th>\n",
       "      <th>BR Cod Mun Infecção</th>\n",
       "      <th>NM MUN (MUNINF.csv)</th>\n",
       "      <th>Year of BR Data de Notificação</th>\n",
       "      <th>Number of Records</th>\n",
       "    </tr>\n",
       "  </thead>\n",
       "  <tbody>\n",
       "    <tr>\n",
       "      <th>0</th>\n",
       "      <td>130002</td>\n",
       "      <td>Alvarães</td>\n",
       "      <td>2018</td>\n",
       "      <td>1293</td>\n",
       "    </tr>\n",
       "    <tr>\n",
       "      <th>1</th>\n",
       "      <td>130002</td>\n",
       "      <td>Alvarães</td>\n",
       "      <td>2017</td>\n",
       "      <td>1535</td>\n",
       "    </tr>\n",
       "    <tr>\n",
       "      <th>2</th>\n",
       "      <td>130002</td>\n",
       "      <td>Alvarães</td>\n",
       "      <td>2016</td>\n",
       "      <td>522</td>\n",
       "    </tr>\n",
       "    <tr>\n",
       "      <th>3</th>\n",
       "      <td>130002</td>\n",
       "      <td>Alvarães</td>\n",
       "      <td>2015</td>\n",
       "      <td>1935</td>\n",
       "    </tr>\n",
       "    <tr>\n",
       "      <th>4</th>\n",
       "      <td>130002</td>\n",
       "      <td>Alvarães</td>\n",
       "      <td>2014</td>\n",
       "      <td>1589</td>\n",
       "    </tr>\n",
       "  </tbody>\n",
       "</table>\n",
       "</div>"
      ],
      "text/plain": [
       "   BR Cod Mun Infecção NM MUN (MUNINF.csv)  Year of BR Data de Notificação  \\\n",
       "0               130002            Alvarães                            2018   \n",
       "1               130002            Alvarães                            2017   \n",
       "2               130002            Alvarães                            2016   \n",
       "3               130002            Alvarães                            2015   \n",
       "4               130002            Alvarães                            2014   \n",
       "\n",
       "   Number of Records  \n",
       "0               1293  \n",
       "1               1535  \n",
       "2                522  \n",
       "3               1935  \n",
       "4               1589  "
      ]
     },
     "execution_count": 73,
     "metadata": {},
     "output_type": "execute_result"
    }
   ],
   "source": [
    "df = pd.read_csv(\"Serie_casos-AM.csv\")\n",
    "df.head()"
   ]
  },
  {
   "cell_type": "code",
   "execution_count": 74,
   "metadata": {},
   "outputs": [],
   "source": [
    "# Renomeando as colunas\n",
    "df.rename(columns={'BR Cod Mun Infecção':'Codigo', 'NM MUN (MUNINF.csv)':'Municipio',\n",
    "                 'Year of BR Data de Notificação':'Ano', 'Number of Records':'Casos'},\n",
    "         inplace=True)"
   ]
  },
  {
   "cell_type": "code",
   "execution_count": 75,
   "metadata": {},
   "outputs": [
    {
     "data": {
      "text/plain": [
       "Alvarães              12\n",
       "Itapiranga            12\n",
       "Jutaí                 12\n",
       "Lábrea                12\n",
       "Manacapuru            12\n",
       "                      ..\n",
       "Amaturá               11\n",
       "Boa Vista do Ramos     9\n",
       "Nhamundá               9\n",
       "Barreirinha            8\n",
       "Urucurituba            8\n",
       "Name: Municipio, Length: 62, dtype: int64"
      ]
     },
     "execution_count": 75,
     "metadata": {},
     "output_type": "execute_result"
    }
   ],
   "source": [
    "df['Municipio'].value_counts()"
   ]
  },
  {
   "cell_type": "code",
   "execution_count": 76,
   "metadata": {},
   "outputs": [
    {
     "data": {
      "text/html": [
       "<div>\n",
       "<style scoped>\n",
       "    .dataframe tbody tr th:only-of-type {\n",
       "        vertical-align: middle;\n",
       "    }\n",
       "\n",
       "    .dataframe tbody tr th {\n",
       "        vertical-align: top;\n",
       "    }\n",
       "\n",
       "    .dataframe thead th {\n",
       "        text-align: right;\n",
       "    }\n",
       "</style>\n",
       "<table border=\"1\" class=\"dataframe\">\n",
       "  <thead>\n",
       "    <tr style=\"text-align: right;\">\n",
       "      <th></th>\n",
       "      <th>mean</th>\n",
       "      <th>median</th>\n",
       "      <th>sum</th>\n",
       "    </tr>\n",
       "    <tr>\n",
       "      <th>Municipio</th>\n",
       "      <th></th>\n",
       "      <th></th>\n",
       "      <th></th>\n",
       "    </tr>\n",
       "  </thead>\n",
       "  <tbody>\n",
       "    <tr>\n",
       "      <th>Alvarães</th>\n",
       "      <td>1996.333333</td>\n",
       "      <td>1762.0</td>\n",
       "      <td>23956</td>\n",
       "    </tr>\n",
       "    <tr>\n",
       "      <th>Amaturá</th>\n",
       "      <td>72.818182</td>\n",
       "      <td>25.0</td>\n",
       "      <td>801</td>\n",
       "    </tr>\n",
       "    <tr>\n",
       "      <th>Anamã</th>\n",
       "      <td>39.333333</td>\n",
       "      <td>7.5</td>\n",
       "      <td>472</td>\n",
       "    </tr>\n",
       "    <tr>\n",
       "      <th>Anori</th>\n",
       "      <td>32.818182</td>\n",
       "      <td>3.0</td>\n",
       "      <td>361</td>\n",
       "    </tr>\n",
       "    <tr>\n",
       "      <th>Apuí</th>\n",
       "      <td>288.750000</td>\n",
       "      <td>189.5</td>\n",
       "      <td>3465</td>\n",
       "    </tr>\n",
       "    <tr>\n",
       "      <th>...</th>\n",
       "      <td>...</td>\n",
       "      <td>...</td>\n",
       "      <td>...</td>\n",
       "    </tr>\n",
       "    <tr>\n",
       "      <th>Tefé</th>\n",
       "      <td>3458.833333</td>\n",
       "      <td>2367.0</td>\n",
       "      <td>41506</td>\n",
       "    </tr>\n",
       "    <tr>\n",
       "      <th>Tonantins</th>\n",
       "      <td>58.416667</td>\n",
       "      <td>21.5</td>\n",
       "      <td>701</td>\n",
       "    </tr>\n",
       "    <tr>\n",
       "      <th>Uarini</th>\n",
       "      <td>1171.333333</td>\n",
       "      <td>1287.0</td>\n",
       "      <td>14056</td>\n",
       "    </tr>\n",
       "    <tr>\n",
       "      <th>Urucará</th>\n",
       "      <td>144.333333</td>\n",
       "      <td>78.0</td>\n",
       "      <td>1732</td>\n",
       "    </tr>\n",
       "    <tr>\n",
       "      <th>Urucurituba</th>\n",
       "      <td>3.000000</td>\n",
       "      <td>1.5</td>\n",
       "      <td>24</td>\n",
       "    </tr>\n",
       "  </tbody>\n",
       "</table>\n",
       "<p>62 rows × 3 columns</p>\n",
       "</div>"
      ],
      "text/plain": [
       "                    mean  median    sum\n",
       "Municipio                              \n",
       "Alvarães     1996.333333  1762.0  23956\n",
       "Amaturá        72.818182    25.0    801\n",
       "Anamã          39.333333     7.5    472\n",
       "Anori          32.818182     3.0    361\n",
       "Apuí          288.750000   189.5   3465\n",
       "...                  ...     ...    ...\n",
       "Tefé         3458.833333  2367.0  41506\n",
       "Tonantins      58.416667    21.5    701\n",
       "Uarini       1171.333333  1287.0  14056\n",
       "Urucará       144.333333    78.0   1732\n",
       "Urucurituba     3.000000     1.5     24\n",
       "\n",
       "[62 rows x 3 columns]"
      ]
     },
     "execution_count": 76,
     "metadata": {},
     "output_type": "execute_result"
    }
   ],
   "source": [
    "# Agrupando por município para calcular a média e mediana de cada cidade durante o período\n",
    "grouped = df.groupby('Municipio')\n",
    "\n",
    "newCSV = grouped['Casos'].agg([np.mean, np.median, np.sum])\n",
    "newCSV"
   ]
  },
  {
   "cell_type": "code",
   "execution_count": 77,
   "metadata": {},
   "outputs": [],
   "source": [
    "# Escrevendo um novo arquivo csv\n",
    "newCSV.to_csv(\"Serie_casos-AM-mod.csv\")"
   ]
  },
  {
   "cell_type": "markdown",
   "metadata": {},
   "source": [
    "# Cluterização"
   ]
  },
  {
   "cell_type": "code",
   "execution_count": 78,
   "metadata": {},
   "outputs": [],
   "source": [
    "from matplotlib import pyplot as plt\n",
    "from sklearn.cluster import KMeans\n"
   ]
  },
  {
   "cell_type": "code",
   "execution_count": 79,
   "metadata": {},
   "outputs": [],
   "source": [
    "data = pd.read_csv(\"Serie_casos-AM-mod.csv\")\n",
    "\n",
    "X = data.values[:,1:]\n",
    "X = np.nan_to_num(X)"
   ]
  },
  {
   "cell_type": "code",
   "execution_count": 80,
   "metadata": {},
   "outputs": [
    {
     "data": {
      "text/plain": [
       "<function matplotlib.pyplot.show(close=None, block=None)>"
      ]
     },
     "execution_count": 80,
     "metadata": {},
     "output_type": "execute_result"
    },
    {
     "data": {
      "image/png": "[encoded data removed]",
      "text/plain": [
       "<Figure size 432x288 with 1 Axes>"
      ]
     },
     "metadata": {
      "needs_background": "light"
     },
     "output_type": "display_data"
    }
   ],
   "source": [
    "k_means = KMeans(init = \"k-means++\", n_clusters = 5, n_init = 10, max_iter=300)\n",
    "pred_y = k_means.fit_predict(X)\n",
    "plt.scatter(X[:,1], X[:,0], c = pred_y)\n",
    "plt.grid()\n",
    "plt.scatter(k_means.cluster_centers_[:,1], k_means.cluster_centers_[:,0], s=70, c='red')\n",
    "plt.show"
   ]
  },
  {
   "cell_type": "code",
   "execution_count": 81,
   "metadata": {},
   "outputs": [
    {
     "data": {
      "text/plain": [
       "<function matplotlib.pyplot.show(close=None, block=None)>"
      ]
     },
     "execution_count": 81,
     "metadata": {},
     "output_type": "execute_result"
    },
    {
     "data": {
      "image/png": "[encoded data removed]",
      "text/plain": [
       "<Figure size 432x288 with 1 Axes>"
      ]
     },
     "metadata": {
      "needs_background": "light"
     },
     "output_type": "display_data"
    }
   ],
   "source": [
    "k_means = KMeans(init = \"random\", n_clusters = 5, n_init = 10, max_iter=100)\n",
    "pred_y = k_means.fit_predict(X)\n",
    "plt.scatter(X[:,1], X[:,0], c = pred_y)\n",
    "plt.grid()\n",
    "plt.scatter(k_means.cluster_centers_[:,1], k_means.cluster_centers_[:,0], s=70, c='red')\n",
    "plt.show"
   ]
  },
  {
   "cell_type": "markdown",
   "metadata": {},
   "source": [
    "# Choropleth map"
   ]
  },
  {
   "cell_type": "code",
   "execution_count": 82,
   "metadata": {},
   "outputs": [
    {
     "data": {
      "text/plain": [
       "{'GEOCODIGO': '1300201', 'NOME': 'Atalaia do Norte', 'UF': 'AM'}"
      ]
     },
     "execution_count": 82,
     "metadata": {},
     "output_type": "execute_result"
    }
   ],
   "source": [
    "import json\n",
    "\n",
    "amazon_cities = json.load(open(\"AM.json\", \"r\"))\n",
    "amazon_cities['features'][0]['properties']"
   ]
  },
  {
   "cell_type": "code",
   "execution_count": 83,
   "metadata": {},
   "outputs": [],
   "source": [
    "cities_id_map = {}\n",
    "\n",
    "for feature in amazon_cities['features']:\n",
    "    feature['id'] = feature['properties']['GEOCODIGO']\n",
    "    cities_id_map[feature['properties']['NOME']] = feature['id']"
   ]
  },
  {
   "cell_type": "code",
   "execution_count": 84,
   "metadata": {},
   "outputs": [],
   "source": [
    "data['id'] = data['Municipio'].apply(lambda x: cities_id_map[x])"
   ]
  },
  {
   "cell_type": "code",
   "execution_count": 85,
   "metadata": {},
   "outputs": [
    {
     "data": {
      "text/html": [
       "<div>\n",
       "<style scoped>\n",
       "    .dataframe tbody tr th:only-of-type {\n",
       "        vertical-align: middle;\n",
       "    }\n",
       "\n",
       "    .dataframe tbody tr th {\n",
       "        vertical-align: top;\n",
       "    }\n",
       "\n",
       "    .dataframe thead th {\n",
       "        text-align: right;\n",
       "    }\n",
       "</style>\n",
       "<table border=\"1\" class=\"dataframe\">\n",
       "  <thead>\n",
       "    <tr style=\"text-align: right;\">\n",
       "      <th></th>\n",
       "      <th>Municipio</th>\n",
       "      <th>mean</th>\n",
       "      <th>median</th>\n",
       "      <th>sum</th>\n",
       "      <th>id</th>\n",
       "    </tr>\n",
       "  </thead>\n",
       "  <tbody>\n",
       "    <tr>\n",
       "      <th>0</th>\n",
       "      <td>Alvarães</td>\n",
       "      <td>1996.333333</td>\n",
       "      <td>1762.0</td>\n",
       "      <td>23956</td>\n",
       "      <td>1300029</td>\n",
       "    </tr>\n",
       "    <tr>\n",
       "      <th>1</th>\n",
       "      <td>Amaturá</td>\n",
       "      <td>72.818182</td>\n",
       "      <td>25.0</td>\n",
       "      <td>801</td>\n",
       "      <td>1300060</td>\n",
       "    </tr>\n",
       "    <tr>\n",
       "      <th>2</th>\n",
       "      <td>Anamã</td>\n",
       "      <td>39.333333</td>\n",
       "      <td>7.5</td>\n",
       "      <td>472</td>\n",
       "      <td>1300086</td>\n",
       "    </tr>\n",
       "    <tr>\n",
       "      <th>3</th>\n",
       "      <td>Anori</td>\n",
       "      <td>32.818182</td>\n",
       "      <td>3.0</td>\n",
       "      <td>361</td>\n",
       "      <td>1300102</td>\n",
       "    </tr>\n",
       "    <tr>\n",
       "      <th>4</th>\n",
       "      <td>Apuí</td>\n",
       "      <td>288.750000</td>\n",
       "      <td>189.5</td>\n",
       "      <td>3465</td>\n",
       "      <td>1300144</td>\n",
       "    </tr>\n",
       "  </tbody>\n",
       "</table>\n",
       "</div>"
      ],
      "text/plain": [
       "  Municipio         mean  median    sum       id\n",
       "0  Alvarães  1996.333333  1762.0  23956  1300029\n",
       "1   Amaturá    72.818182    25.0    801  1300060\n",
       "2     Anamã    39.333333     7.5    472  1300086\n",
       "3     Anori    32.818182     3.0    361  1300102\n",
       "4      Apuí   288.750000   189.5   3465  1300144"
      ]
     },
     "execution_count": 85,
     "metadata": {},
     "output_type": "execute_result"
    }
   ],
   "source": [
    "data.head()"
   ]
  },
  {
   "cell_type": "code",
   "execution_count": 86,
   "metadata": {},
   "outputs": [],
   "source": [
    "import plotly.express as px\n",
    "import plotly.io as pio\n",
    "pio.renderers.default = 'firefox'"
   ]
  },
  {
   "cell_type": "code",
   "execution_count": 143,
   "metadata": {},
   "outputs": [
    {
     "data": {
      "text/html": [
       "<div>\n",
       "<style scoped>\n",
       "    .dataframe tbody tr th:only-of-type {\n",
       "        vertical-align: middle;\n",
       "    }\n",
       "\n",
       "    .dataframe tbody tr th {\n",
       "        vertical-align: top;\n",
       "    }\n",
       "\n",
       "    .dataframe thead th {\n",
       "        text-align: right;\n",
       "    }\n",
       "</style>\n",
       "<table border=\"1\" class=\"dataframe\">\n",
       "  <thead>\n",
       "    <tr style=\"text-align: right;\">\n",
       "      <th></th>\n",
       "      <th>Municipio</th>\n",
       "      <th>mean</th>\n",
       "      <th>median</th>\n",
       "      <th>sum</th>\n",
       "      <th>id</th>\n",
       "      <th>meanScale</th>\n",
       "      <th>cluster</th>\n",
       "    </tr>\n",
       "  </thead>\n",
       "  <tbody>\n",
       "    <tr>\n",
       "      <th>0</th>\n",
       "      <td>Alvarães</td>\n",
       "      <td>1996.333333</td>\n",
       "      <td>1762.0</td>\n",
       "      <td>23956.0</td>\n",
       "      <td>1300029</td>\n",
       "      <td>3.300233</td>\n",
       "      <td>4.0</td>\n",
       "    </tr>\n",
       "    <tr>\n",
       "      <th>1</th>\n",
       "      <td>Amaturá</td>\n",
       "      <td>72.818182</td>\n",
       "      <td>25.0</td>\n",
       "      <td>801.0</td>\n",
       "      <td>1300060</td>\n",
       "      <td>1.862240</td>\n",
       "      <td>2.0</td>\n",
       "    </tr>\n",
       "    <tr>\n",
       "      <th>2</th>\n",
       "      <td>Anamã</td>\n",
       "      <td>39.333333</td>\n",
       "      <td>7.5</td>\n",
       "      <td>472.0</td>\n",
       "      <td>1300086</td>\n",
       "      <td>1.594761</td>\n",
       "      <td>2.0</td>\n",
       "    </tr>\n",
       "    <tr>\n",
       "      <th>3</th>\n",
       "      <td>Anori</td>\n",
       "      <td>32.818182</td>\n",
       "      <td>3.0</td>\n",
       "      <td>361.0</td>\n",
       "      <td>1300102</td>\n",
       "      <td>1.516115</td>\n",
       "      <td>2.0</td>\n",
       "    </tr>\n",
       "    <tr>\n",
       "      <th>4</th>\n",
       "      <td>Apuí</td>\n",
       "      <td>288.750000</td>\n",
       "      <td>189.5</td>\n",
       "      <td>3465.0</td>\n",
       "      <td>1300144</td>\n",
       "      <td>2.460522</td>\n",
       "      <td>3.0</td>\n",
       "    </tr>\n",
       "  </tbody>\n",
       "</table>\n",
       "</div>"
      ],
      "text/plain": [
       "  Municipio         mean  median      sum       id  meanScale  cluster\n",
       "0  Alvarães  1996.333333  1762.0  23956.0  1300029   3.300233      4.0\n",
       "1   Amaturá    72.818182    25.0    801.0  1300060   1.862240      2.0\n",
       "2     Anamã    39.333333     7.5    472.0  1300086   1.594761      2.0\n",
       "3     Anori    32.818182     3.0    361.0  1300102   1.516115      2.0\n",
       "4      Apuí   288.750000   189.5   3465.0  1300144   2.460522      3.0"
      ]
     },
     "execution_count": 143,
     "metadata": {},
     "output_type": "execute_result"
    }
   ],
   "source": [
    "data['meanScale'] = np.log10(data['mean'])\n",
    "\n",
    "data.loc[(data['meanScale'] > 4), 'cluster'] = 5\n",
    "data.loc[np.logical_and((data['meanScale'] < 4), (data['meanScale'] > 3)), 'cluster'] = 4\n",
    "data.loc[np.logical_and((data['meanScale'] <= 3), (data['meanScale'] > 2)), 'cluster'] = 3\n",
    "data.loc[np.logical_and((data['meanScale'] <= 2), (data['meanScale'] > 1)), 'cluster'] = 2\n",
    "data.loc[(data['meanScale'] <= 1), 'cluster'] = 1\n",
    "\n",
    "data.head()\n",
    "\n"
   ]
  },
  {
   "cell_type": "code",
   "execution_count": 144,
   "metadata": {},
   "outputs": [],
   "source": [
    "fig = px.choropleth(data,\n",
    "                    locations='id', \n",
    "                    geojson=amazon_cities, \n",
    "                    color='cluster', \n",
    "                    hover_name='Municipio',\n",
    "                    hover_data=['mean'])\n",
    "fig.update_geos(fitbounds=\"locations\", visible=False)\n",
    "fig.show()"
   ]
  },
  {
   "cell_type": "code",
   "execution_count": 145,
   "metadata": {},
   "outputs": [],
   "source": [
    "fig_mapbox = px.choropleth_mapbox(data,\n",
    "                    locations='id', \n",
    "                    geojson=amazon_cities, \n",
    "                    color='cluster', \n",
    "                    hover_name='Municipio',\n",
    "                    hover_data=['mean'],\n",
    "                    mapbox_style=\"carto-positron\",\n",
    "                    center={'lat': 24, 'lon':78},\n",
    "                    zoom=3, \n",
    "                    opacity=0.5,\n",
    "                    )\n",
    "fig_mapbox.show()"
   ]
  }
 ],
 "metadata": {
  "interpreter": {
   "hash": "916dbcbb3f70747c44a77c7bcd40155683ae19c65e1c03b4aa3499c5328201f1"
  },
  "kernelspec": {
   "display_name": "Python 3.8.10 64-bit",
   "language": "python",
   "name": "python3"
  },
  "language_info": {
   "codemirror_mode": {
    "name": "ipython",
    "version": 3
   },
   "file_extension": ".py",
   "mimetype": "text/x-python",
   "name": "python",
   "nbconvert_exporter": "python",
   "pygments_lexer": "ipython3",
   "version": "3.8.10"
  },
  "orig_nbformat": 4
 },
 "nbformat": 4,
 "nbformat_minor": 2
}
