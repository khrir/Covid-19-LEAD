{
 "cells": [
  {
   "cell_type": "code",
   "execution_count": 22,
   "metadata": {},
   "outputs": [],
   "source": [
    "import matplotlib.pyplot as plt\n",
    "import pandas as pd\n",
    "import numpy as np\n",
    "from sklearn.cluster import KMeans"
   ]
  },
  {
   "cell_type": "code",
   "execution_count": 23,
   "metadata": {},
   "outputs": [
    {
     "data": {
      "text/html": [
       "<div>\n",
       "<style scoped>\n",
       "    .dataframe tbody tr th:only-of-type {\n",
       "        vertical-align: middle;\n",
       "    }\n",
       "\n",
       "    .dataframe tbody tr th {\n",
       "        vertical-align: top;\n",
       "    }\n",
       "\n",
       "    .dataframe thead th {\n",
       "        text-align: right;\n",
       "    }\n",
       "</style>\n",
       "<table border=\"1\" class=\"dataframe\">\n",
       "  <thead>\n",
       "    <tr style=\"text-align: right;\">\n",
       "      <th></th>\n",
       "      <th>Município</th>\n",
       "      <th>Estabelecimentos de Saúde 2021</th>\n",
       "      <th>Densidade demografica 2021</th>\n",
       "      <th>IDHM [2010]</th>\n",
       "    </tr>\n",
       "  </thead>\n",
       "  <tbody>\n",
       "    <tr>\n",
       "      <th>0</th>\n",
       "      <td>Maceió</td>\n",
       "      <td>1614</td>\n",
       "      <td>2025.44</td>\n",
       "      <td>0.721</td>\n",
       "    </tr>\n",
       "    <tr>\n",
       "      <th>1</th>\n",
       "      <td>Satuba</td>\n",
       "      <td>15</td>\n",
       "      <td>340.26</td>\n",
       "      <td>0.660</td>\n",
       "    </tr>\n",
       "    <tr>\n",
       "      <th>2</th>\n",
       "      <td>Arapiraca</td>\n",
       "      <td>342</td>\n",
       "      <td>677.87</td>\n",
       "      <td>0.649</td>\n",
       "    </tr>\n",
       "    <tr>\n",
       "      <th>3</th>\n",
       "      <td>Rio Largo</td>\n",
       "      <td>47</td>\n",
       "      <td>257.51</td>\n",
       "      <td>0.643</td>\n",
       "    </tr>\n",
       "    <tr>\n",
       "      <th>4</th>\n",
       "      <td>Marechal Deodoro</td>\n",
       "      <td>12</td>\n",
       "      <td>154.99</td>\n",
       "      <td>0.642</td>\n",
       "    </tr>\n",
       "    <tr>\n",
       "      <th>...</th>\n",
       "      <td>...</td>\n",
       "      <td>...</td>\n",
       "      <td>...</td>\n",
       "      <td>...</td>\n",
       "    </tr>\n",
       "    <tr>\n",
       "      <th>97</th>\n",
       "      <td>Roteiro</td>\n",
       "      <td>6</td>\n",
       "      <td>51.46</td>\n",
       "      <td>0.505</td>\n",
       "    </tr>\n",
       "    <tr>\n",
       "      <th>98</th>\n",
       "      <td>Mata Grande</td>\n",
       "      <td>11</td>\n",
       "      <td>27.55</td>\n",
       "      <td>0.504</td>\n",
       "    </tr>\n",
       "    <tr>\n",
       "      <th>99</th>\n",
       "      <td>Olho d'Água Grande</td>\n",
       "      <td>8</td>\n",
       "      <td>43.87</td>\n",
       "      <td>0.503</td>\n",
       "    </tr>\n",
       "    <tr>\n",
       "      <th>100</th>\n",
       "      <td>Olivença</td>\n",
       "      <td>8</td>\n",
       "      <td>66.63</td>\n",
       "      <td>0.493</td>\n",
       "    </tr>\n",
       "    <tr>\n",
       "      <th>101</th>\n",
       "      <td>Inhapi</td>\n",
       "      <td>13</td>\n",
       "      <td>49.45</td>\n",
       "      <td>0.484</td>\n",
       "    </tr>\n",
       "  </tbody>\n",
       "</table>\n",
       "<p>102 rows × 4 columns</p>\n",
       "</div>"
      ],
      "text/plain": [
       "              Município  Estabelecimentos de Saúde 2021  \\\n",
       "0                Maceió                            1614   \n",
       "1                Satuba                              15   \n",
       "2             Arapiraca                             342   \n",
       "3             Rio Largo                              47   \n",
       "4      Marechal Deodoro                              12   \n",
       "..                  ...                             ...   \n",
       "97              Roteiro                               6   \n",
       "98          Mata Grande                              11   \n",
       "99   Olho d'Água Grande                               8   \n",
       "100            Olivença                               8   \n",
       "101              Inhapi                              13   \n",
       "\n",
       "     Densidade demografica 2021  IDHM [2010]  \n",
       "0                       2025.44        0.721  \n",
       "1                        340.26        0.660  \n",
       "2                        677.87        0.649  \n",
       "3                        257.51        0.643  \n",
       "4                        154.99        0.642  \n",
       "..                          ...          ...  \n",
       "97                        51.46        0.505  \n",
       "98                        27.55        0.504  \n",
       "99                        43.87        0.503  \n",
       "100                       66.63        0.493  \n",
       "101                       49.45        0.484  \n",
       "\n",
       "[102 rows x 4 columns]"
      ]
     },
     "execution_count": 23,
     "metadata": {},
     "output_type": "execute_result"
    }
   ],
   "source": [
    "data = pd.read_csv('AL_Dados.csv')\n",
    "data = data[['Município', 'Estabelecimentos de Saúde 2021', 'Densidade demografica 2021', 'IDHM [2010]']]\n",
    "# data.set_index(['Município'], inplace=True)\n",
    "data\n"
   ]
  },
  {
   "cell_type": "code",
   "execution_count": 24,
   "metadata": {},
   "outputs": [
    {
     "data": {
      "text/plain": [
       "array([[ 9.79992358e+00,  9.25983635e+00,  3.99780557e+00],\n",
       "       [-1.39123997e-01,  1.10429561e+00,  2.44944913e+00],\n",
       "       [ 1.89343920e+00,  2.73818167e+00,  2.17023731e+00],\n",
       "       [ 5.97812706e-02,  7.03821482e-01,  2.01793995e+00],\n",
       "       [-1.57771365e-01,  2.07669121e-01,  1.99255706e+00],\n",
       "       [ 3.27060223e-01,  2.45804906e-01,  1.89102549e+00],\n",
       "       [ 3.58139171e-01, -9.24807952e-02,  1.68796235e+00],\n",
       "       [ 3.83916417e-03, -2.31666729e-01,  1.58643078e+00],\n",
       "       [ 6.59970602e-02,  3.56195418e-01,  1.51028210e+00],\n",
       "       [-1.82634524e-01,  7.31106674e-03,  1.30721896e+00],\n",
       "       [ 1.53018115e-01, -1.38166303e-01,  1.23107029e+00],\n",
       "       [-9.56134695e-02,  1.15814148e-01,  1.18030450e+00],\n",
       "       [-1.63987155e-01,  1.60870513e-01,  1.05339004e+00],\n",
       "       [-8.93976799e-02,  1.45383900e-01,  1.02800715e+00],\n",
       "       [ 2.87023226e-02, -1.89804478e-01,  8.50326899e-01],\n",
       "       [-1.88850314e-01,  6.89254387e-01,  8.50326899e-01],\n",
       "       [-1.20476628e-01, -2.59881402e-01,  7.74178222e-01],\n",
       "       [ 9.08602186e-02,  2.16961089e-01,  7.48795329e-01],\n",
       "       [-7.07503111e-02, -3.71626993e-01,  7.48795329e-01],\n",
       "       [-2.01281893e-01, -2.35441591e-01,  7.48795329e-01],\n",
       "       [ 1.21939167e-01, -1.29183214e-02,  6.98029544e-01],\n",
       "       [-1.95066103e-01, -3.32445008e-02,  6.98029544e-01],\n",
       "       [-4.58871527e-02, -2.39071266e-01,  6.47263759e-01],\n",
       "       [-1.88850314e-01, -2.33699347e-01,  6.47263759e-01],\n",
       "       [-7.69661007e-02, -1.20114720e-01,  5.71115082e-01],\n",
       "       [-8.31818903e-02, -2.04903926e-01,  5.71115082e-01],\n",
       "       [-1.95066103e-01,  1.76308730e-01,  5.71115082e-01],\n",
       "       [-1.14260838e-01, -4.18589293e-02,  5.20349296e-01],\n",
       "       [-1.70202945e-01, -3.73998381e-01,  4.94966404e-01],\n",
       "       [-4.58871527e-02, -9.00126163e-02,  4.18817726e-01],\n",
       "       [-1.32908207e-01, -3.59140911e-01,  3.42669049e-01],\n",
       "       [-8.59241504e-03, -5.95717428e-02,  2.91903264e-01],\n",
       "       [-1.82634524e-01, -3.18246574e-01,  2.91903264e-01],\n",
       "       [-2.07497682e-01, -5.94265558e-02,  2.66520371e-01],\n",
       "       [-2.07497682e-01, -4.22442442e-01,  2.66520371e-01],\n",
       "       [-1.14260838e-01, -8.85607463e-02,  2.41137479e-01],\n",
       "       [-1.26692417e-01, -2.32150685e-01,  2.41137479e-01],\n",
       "       [-1.20476628e-01, -1.87578278e-01,  2.15754586e-01],\n",
       "       [-1.70202945e-01, -2.99565847e-01,  2.15754586e-01],\n",
       "       [-5.21029423e-02,  3.55130714e-01,  1.64988801e-01],\n",
       "       [-1.95066103e-01, -6.36369787e-02,  1.64988801e-01],\n",
       "       [-8.31818903e-02, -4.13537639e-01,  1.39605909e-01],\n",
       "       [-9.56134695e-02, -2.62494768e-01,  1.14223016e-01],\n",
       "       [-1.57771365e-01,  2.29205192e-01,  1.14223016e-01],\n",
       "       [-1.57771365e-01, -8.72056677e-02,  1.14223016e-01],\n",
       "       [-1.51555576e-01, -3.24634802e-01,  6.34572313e-02],\n",
       "       [-1.45339786e-01,  5.27844879e-03,  3.80743388e-02],\n",
       "       [-2.13713472e-01, -3.31216612e-01,  3.80743388e-02],\n",
       "       [ 5.35654810e-02,  1.78438139e-01,  1.26914463e-02],\n",
       "       [-1.14260838e-01, -1.71898082e-01,  1.26914463e-02],\n",
       "       [-1.95066103e-01, -3.88807454e-01, -1.26914463e-02],\n",
       "       [-1.39123997e-01,  5.55053207e-01, -3.80743388e-02],\n",
       "       [-2.07497682e-01, -3.17907804e-01, -3.80743388e-02],\n",
       "       [-4.58871527e-02, -1.10967939e-01, -6.34572313e-02],\n",
       "       [-1.57771365e-01, -3.72933676e-01, -1.14223016e-01],\n",
       "       [-2.01281893e-01, -3.04859479e-02, -1.14223016e-01],\n",
       "       [-2.01281893e-01,  9.89724569e-02, -1.39605909e-01],\n",
       "       [-1.57771365e-01,  5.44484448e-02, -1.64988801e-01],\n",
       "       [-1.63987155e-01, -3.75982603e-01, -1.90371694e-01],\n",
       "       [-2.01281893e-01, -3.04937766e-01, -2.15754586e-01],\n",
       "       [-9.56134695e-02,  4.81491796e-01, -2.91903264e-01],\n",
       "       [-2.01281893e-01, -2.78368546e-01, -2.91903264e-01],\n",
       "       [-1.26692417e-01, -1.28777544e-01, -3.17286156e-01],\n",
       "       [ 2.87023226e-02, -1.34022780e-02, -3.68051941e-01],\n",
       "       [-9.56134695e-02, -3.32958856e-01, -3.68051941e-01],\n",
       "       [-1.26692417e-01, -3.42057241e-01, -3.93434834e-01],\n",
       "       [-2.13713472e-01, -3.80289817e-01, -3.93434834e-01],\n",
       "       [-1.76418734e-01, -2.57461618e-01, -4.18817726e-01],\n",
       "       [-8.31818903e-02,  9.18582941e-02, -5.71115082e-01],\n",
       "       [-1.70202945e-01, -3.99018939e-01, -5.71115082e-01],\n",
       "       [-1.70202945e-01, -1.41699187e-01, -6.21880867e-01],\n",
       "       [-7.07503111e-02, -1.50797572e-01, -6.98029544e-01],\n",
       "       [-8.93976799e-02, -1.18178893e-01, -6.98029544e-01],\n",
       "       [-1.45339786e-01, -2.02726121e-01, -7.48795329e-01],\n",
       "       [-1.14260838e-01,  6.81444181e-02, -7.74178222e-01],\n",
       "       [-1.45339786e-01, -2.48314838e-01, -7.74178222e-01],\n",
       "       [-1.26692417e-01,  3.52353656e-02, -7.74178222e-01],\n",
       "       [-1.26692417e-01, -3.44089859e-01, -7.99561114e-01],\n",
       "       [-1.76418734e-01, -1.64493545e-01, -7.99561114e-01],\n",
       "       [-1.32908207e-01, -1.50168428e-01, -8.24944007e-01],\n",
       "       [-1.57771365e-01, -3.54785301e-01, -8.24944007e-01],\n",
       "       [-1.01829259e-01, -2.23197487e-01, -9.26475577e-01],\n",
       "       [-1.32908207e-01, -2.13276376e-01, -9.26475577e-01],\n",
       "       [-1.70202945e-01, -3.56479150e-01, -9.26475577e-01],\n",
       "       [-1.32908207e-01, -2.96468525e-01, -9.51858469e-01],\n",
       "       [-1.88850314e-01, -8.77864157e-02, -9.51858469e-01],\n",
       "       [-1.20476628e-01, -1.19050015e-01, -9.77241362e-01],\n",
       "       [-2.01281893e-01, -4.02019471e-01, -9.77241362e-01],\n",
       "       [-1.76418734e-01, -2.70044491e-01, -1.00262425e+00],\n",
       "       [-1.70202945e-01, -2.54170713e-01, -1.07877293e+00],\n",
       "       [-1.70202945e-01, -3.20666357e-01, -1.12953872e+00],\n",
       "       [-1.70202945e-01, -2.57171244e-01, -1.15492161e+00],\n",
       "       [-1.82634524e-01, -3.45832103e-01, -1.15492161e+00],\n",
       "       [-1.14260838e-01, -3.18894222e-02, -1.18030450e+00],\n",
       "       [-1.76418734e-01, -4.45140009e-01, -1.18030450e+00],\n",
       "       [-1.63987155e-01, -2.42168588e-01, -1.28183607e+00],\n",
       "       [-1.57771365e-01, -4.00180435e-01, -1.45951632e+00],\n",
       "       [-1.95066103e-01, -2.93371202e-01, -1.48489921e+00],\n",
       "       [-1.63987155e-01, -4.09085238e-01, -1.51028210e+00],\n",
       "       [-1.82634524e-01, -3.30103512e-01, -1.53566500e+00],\n",
       "       [-1.82634524e-01, -2.19954978e-01, -1.78949392e+00],\n",
       "       [-1.51555576e-01, -3.03098731e-01, -2.01793995e+00]])"
      ]
     },
     "execution_count": 24,
     "metadata": {},
     "output_type": "execute_result"
    }
   ],
   "source": [
    "from sklearn.preprocessing import StandardScaler\n",
    "X = data.values[:,1:]\n",
    "X = np.nan_to_num(X)\n",
    "Clus_dataSet = StandardScaler().fit_transform(X)\n",
    "Clus_dataSet"
   ]
  },
  {
   "cell_type": "code",
   "execution_count": 25,
   "metadata": {},
   "outputs": [
    {
     "data": {
      "text/plain": [
       "array([1, 2, 4, 2, 3, 3, 3, 0, 2, 3, 3, 3, 3, 3, 0, 2, 0, 3, 0, 0, 3, 3,\n",
       "       0, 0, 3, 0, 3, 3, 0, 3, 0, 3, 0, 3, 0, 3, 0, 0, 0, 2, 3, 0, 0, 3,\n",
       "       3, 0, 3, 0, 3, 0, 0, 2, 0, 3, 0, 3, 3, 3, 0, 0, 2, 0, 3, 3, 0, 0,\n",
       "       0, 0, 3, 0, 0, 0, 3, 0, 3, 0, 3, 0, 0, 0, 0, 0, 0, 0, 0, 3, 3, 0,\n",
       "       0, 0, 0, 0, 0, 3, 0, 0, 0, 0, 0, 0, 0, 0], dtype=int32)"
      ]
     },
     "execution_count": 25,
     "metadata": {},
     "output_type": "execute_result"
    }
   ],
   "source": [
    "k_means = KMeans(init = \"k-means++\", n_clusters = 5, n_init = 12)\n",
    "k_means.fit(X)\n",
    "labels = k_means.labels_\n",
    "labels"
   ]
  },
  {
   "cell_type": "code",
   "execution_count": 26,
   "metadata": {},
   "outputs": [
    {
     "data": {
      "text/html": [
       "<div>\n",
       "<style scoped>\n",
       "    .dataframe tbody tr th:only-of-type {\n",
       "        vertical-align: middle;\n",
       "    }\n",
       "\n",
       "    .dataframe tbody tr th {\n",
       "        vertical-align: top;\n",
       "    }\n",
       "\n",
       "    .dataframe thead th {\n",
       "        text-align: right;\n",
       "    }\n",
       "</style>\n",
       "<table border=\"1\" class=\"dataframe\">\n",
       "  <thead>\n",
       "    <tr style=\"text-align: right;\">\n",
       "      <th></th>\n",
       "      <th>Município</th>\n",
       "      <th>Estabelecimentos de Saúde 2021</th>\n",
       "      <th>Densidade demografica 2021</th>\n",
       "      <th>IDHM [2010]</th>\n",
       "      <th>Cluster</th>\n",
       "    </tr>\n",
       "  </thead>\n",
       "  <tbody>\n",
       "    <tr>\n",
       "      <th>0</th>\n",
       "      <td>Maceió</td>\n",
       "      <td>1614</td>\n",
       "      <td>2025.44</td>\n",
       "      <td>0.721</td>\n",
       "      <td>1</td>\n",
       "    </tr>\n",
       "    <tr>\n",
       "      <th>1</th>\n",
       "      <td>Satuba</td>\n",
       "      <td>15</td>\n",
       "      <td>340.26</td>\n",
       "      <td>0.660</td>\n",
       "      <td>2</td>\n",
       "    </tr>\n",
       "    <tr>\n",
       "      <th>2</th>\n",
       "      <td>Arapiraca</td>\n",
       "      <td>342</td>\n",
       "      <td>677.87</td>\n",
       "      <td>0.649</td>\n",
       "      <td>4</td>\n",
       "    </tr>\n",
       "    <tr>\n",
       "      <th>3</th>\n",
       "      <td>Rio Largo</td>\n",
       "      <td>47</td>\n",
       "      <td>257.51</td>\n",
       "      <td>0.643</td>\n",
       "      <td>2</td>\n",
       "    </tr>\n",
       "    <tr>\n",
       "      <th>4</th>\n",
       "      <td>Marechal Deodoro</td>\n",
       "      <td>12</td>\n",
       "      <td>154.99</td>\n",
       "      <td>0.642</td>\n",
       "      <td>3</td>\n",
       "    </tr>\n",
       "  </tbody>\n",
       "</table>\n",
       "</div>"
      ],
      "text/plain": [
       "          Município  Estabelecimentos de Saúde 2021  \\\n",
       "0            Maceió                            1614   \n",
       "1            Satuba                              15   \n",
       "2         Arapiraca                             342   \n",
       "3         Rio Largo                              47   \n",
       "4  Marechal Deodoro                              12   \n",
       "\n",
       "   Densidade demografica 2021  IDHM [2010]  Cluster  \n",
       "0                     2025.44        0.721        1  \n",
       "1                      340.26        0.660        2  \n",
       "2                      677.87        0.649        4  \n",
       "3                      257.51        0.643        2  \n",
       "4                      154.99        0.642        3  "
      ]
     },
     "execution_count": 26,
     "metadata": {},
     "output_type": "execute_result"
    }
   ],
   "source": [
    "data[\"Cluster\"] = labels\n",
    "data.head(5)"
   ]
  },
  {
   "cell_type": "code",
   "execution_count": 27,
   "metadata": {},
   "outputs": [
    {
     "data": {
      "text/html": [
       "<div>\n",
       "<style scoped>\n",
       "    .dataframe tbody tr th:only-of-type {\n",
       "        vertical-align: middle;\n",
       "    }\n",
       "\n",
       "    .dataframe tbody tr th {\n",
       "        vertical-align: top;\n",
       "    }\n",
       "\n",
       "    .dataframe thead th {\n",
       "        text-align: right;\n",
       "    }\n",
       "</style>\n",
       "<table border=\"1\" class=\"dataframe\">\n",
       "  <thead>\n",
       "    <tr style=\"text-align: right;\">\n",
       "      <th></th>\n",
       "      <th>Estabelecimentos de Saúde 2021</th>\n",
       "      <th>Densidade demografica 2021</th>\n",
       "      <th>IDHM [2010]</th>\n",
       "    </tr>\n",
       "    <tr>\n",
       "      <th>Cluster</th>\n",
       "      <th></th>\n",
       "      <th></th>\n",
       "      <th></th>\n",
       "    </tr>\n",
       "  </thead>\n",
       "  <tbody>\n",
       "    <tr>\n",
       "      <th>0</th>\n",
       "      <td>13.491228</td>\n",
       "      <td>51.347368</td>\n",
       "      <td>0.547895</td>\n",
       "    </tr>\n",
       "    <tr>\n",
       "      <th>1</th>\n",
       "      <td>1614.000000</td>\n",
       "      <td>2025.440000</td>\n",
       "      <td>0.721000</td>\n",
       "    </tr>\n",
       "    <tr>\n",
       "      <th>2</th>\n",
       "      <td>26.142857</td>\n",
       "      <td>237.392857</td>\n",
       "      <td>0.601000</td>\n",
       "    </tr>\n",
       "    <tr>\n",
       "      <th>3</th>\n",
       "      <td>25.138889</td>\n",
       "      <td>115.006389</td>\n",
       "      <td>0.574167</td>\n",
       "    </tr>\n",
       "    <tr>\n",
       "      <th>4</th>\n",
       "      <td>342.000000</td>\n",
       "      <td>677.870000</td>\n",
       "      <td>0.649000</td>\n",
       "    </tr>\n",
       "  </tbody>\n",
       "</table>\n",
       "</div>"
      ],
      "text/plain": [
       "         Estabelecimentos de Saúde 2021  Densidade demografica 2021  \\\n",
       "Cluster                                                               \n",
       "0                             13.491228                   51.347368   \n",
       "1                           1614.000000                 2025.440000   \n",
       "2                             26.142857                  237.392857   \n",
       "3                             25.138889                  115.006389   \n",
       "4                            342.000000                  677.870000   \n",
       "\n",
       "         IDHM [2010]  \n",
       "Cluster               \n",
       "0           0.547895  \n",
       "1           0.721000  \n",
       "2           0.601000  \n",
       "3           0.574167  \n",
       "4           0.649000  "
      ]
     },
     "execution_count": 27,
     "metadata": {},
     "output_type": "execute_result"
    }
   ],
   "source": [
    "data.groupby('Cluster').mean()\n"
   ]
  },
  {
   "cell_type": "code",
   "execution_count": 28,
   "metadata": {},
   "outputs": [
    {
     "name": "stderr",
     "output_type": "stream",
     "text": [
      "/tmp/ipykernel_33842/852350574.py:11: DeprecationWarning: `np.float` is a deprecated alias for the builtin `float`. To silence this warning, use `float` by itself. Doing this will not modify any behavior and is safe. If you specifically wanted the numpy scalar type, use `np.float64` here.\n",
      "Deprecated in NumPy 1.20; for more details and guidance: https://numpy.org/devdocs/release/1.20.0-notes.html#deprecations\n",
      "  ax.scatter(X[:, 2], X[:, 1], X[:, 0], c= labels.astype(np.float), s=180)\n"
     ]
    },
    {
     "data": {
      "text/plain": [
       "<mpl_toolkits.mplot3d.art3d.Path3DCollection at 0x7f4de5bda8e0>"
      ]
     },
     "execution_count": 28,
     "metadata": {},
     "output_type": "execute_result"
    },
    {
     "data": {
      "image/png": "[encoded data removed]",
      "text/plain": [
       "<Figure size 576x432 with 1 Axes>"
      ]
     },
     "metadata": {
      "needs_background": "light"
     },
     "output_type": "display_data"
    }
   ],
   "source": [
    "from mpl_toolkits.mplot3d import Axes3D \n",
    "fig = plt.figure(1, figsize=(8, 6))\n",
    "plt.clf()\n",
    "ax = Axes3D(fig, rect=[0, 0, .95, 1], elev=28, azim=134)\n",
    "\n",
    "plt.cla()\n",
    "ax.set_xlabel('IDH - Municípios', fontsize=12)\n",
    "ax.set_ylabel('Densidade Demográfica', fontsize=12)\n",
    "ax.set_zlabel('Estabelecimentos de saúde', fontsize=12)\n",
    "\n",
    "ax.scatter(X[:, 2], X[:, 1], X[:, 0], c= labels.astype(np.float), s=180)"
   ]
  },
  {
   "cell_type": "markdown",
   "metadata": {},
   "source": [
    "## Filtragem dos dados de vacinação por cidade"
   ]
  },
  {
   "cell_type": "code",
   "execution_count": 29,
   "metadata": {},
   "outputs": [
    {
     "name": "stderr",
     "output_type": "stream",
     "text": [
      "/home/khrir/.local/lib/python3.8/site-packages/IPython/core/interactiveshell.py:3444: DtypeWarning: Columns (7,8) have mixed types.Specify dtype option on import or set low_memory=False.\n",
      "  exec(code_obj, self.user_global_ns, self.user_ns)\n"
     ]
    },
    {
     "name": "stdout",
     "output_type": "stream",
     "text": [
      "(1898728, 2)\n"
     ]
    }
   ],
   "source": [
    "# O dataset foi disponibilizado em três partes, cada qual com 900 Mb\n",
    "\n",
    "df_vacina_part1 = pd.read_csv('vacina-1.csv', delimiter=\";\")\n",
    "df_vacina_part1 = df_vacina_part1[['vacina_descricao_dose', 'estabelecimento_municipio_nome']]\n",
    "print(df_vacina_part1.shape)"
   ]
  },
  {
   "cell_type": "code",
   "execution_count": 30,
   "metadata": {},
   "outputs": [
    {
     "name": "stdout",
     "output_type": "stream",
     "text": [
      "(1894917, 2)\n"
     ]
    }
   ],
   "source": [
    "df_vacina_part2 = pd.read_csv('vacina-2.csv', delimiter=\";\")\n",
    "df_vacina_part2 = df_vacina_part2[['vacina_descricao_dose', 'estabelecimento_municipio_nome']]\n",
    "print(df_vacina_part2.shape)"
   ]
  },
  {
   "cell_type": "code",
   "execution_count": 31,
   "metadata": {},
   "outputs": [
    {
     "name": "stdout",
     "output_type": "stream",
     "text": [
      "(1901199, 2)\n"
     ]
    }
   ],
   "source": [
    "df_vacina_part3 = pd.read_csv('vacina-3.csv', delimiter=\";\")\n",
    "df_vacina_part3 = df_vacina_part3[['vacina_descricao_dose', 'estabelecimento_municipio_nome']]\n",
    "print(df_vacina_part3.shape)"
   ]
  },
  {
   "cell_type": "code",
   "execution_count": 39,
   "metadata": {},
   "outputs": [],
   "source": [
    "vacina_desc_2dose = \"2ª Dose\"\n",
    "\n",
    "# Filtrar as pessoas que tomaram a 2° dose da vacina, em tese, estão imunizadas\n",
    "# Agrupar por cidade de modo a descobrir quantas pessoas foram vacinadas em cada cidade\n",
    "def filtrar(csv):\n",
    "    df_filtered_2dose = csv.loc[(csv['vacina_descricao_dose'] == vacina_desc_2dose) & (csv[\"vacina_descricao_dose\"].notnull())]\n",
    "\n",
    "    print(\"Formato da aplicação da segunda dose: \", df_filtered_2dose.shape)\n",
    "\n",
    "    df_groupped = df_filtered_2dose.groupby('estabelecimento_municipio_nome').count()\n",
    "    df_groupped.rename(columns={'vacina_descricao_dose': '2a_dose'}, inplace=True)\n",
    "    \n",
    "    print(df_groupped.head(5))\n",
    "    return df_groupped\n"
   ]
  },
  {
   "cell_type": "code",
   "execution_count": 40,
   "metadata": {},
   "outputs": [
    {
     "name": "stdout",
     "output_type": "stream",
     "text": [
      "Formato da aplicação da segunda dose:  (713441, 2)\n",
      "                                2a_dose\n",
      "estabelecimento_municipio_nome         \n",
      "AGUA BRANCA                        4741\n",
      "ANADIA                             3715\n",
      "ARAPIRACA                         48207\n",
      "ATALAIA                            8178\n",
      "BARRA DE SANTO ANTONIO             2734\n",
      "----------------------------------------------------------\n",
      "Formato da aplicação da segunda dose:  (712414, 2)\n",
      "                                2a_dose\n",
      "estabelecimento_municipio_nome         \n",
      "AGUA BRANCA                        4705\n",
      "ANADIA                             3554\n",
      "ARAPIRACA                         48719\n",
      "ATALAIA                            8431\n",
      "BARRA DE SANTO ANTONIO             2740\n",
      "----------------------------------------------------------\n",
      "Formato da aplicação da segunda dose:  (714645, 2)\n",
      "                                2a_dose\n",
      "estabelecimento_municipio_nome         \n",
      "AGUA BRANCA                        4798\n",
      "ANADIA                             3627\n",
      "ARAPIRACA                         48824\n",
      "ATALAIA                            8302\n",
      "BARRA DE SANTO ANTONIO             2681\n"
     ]
    }
   ],
   "source": [
    "vacina_part1 = filtrar(df_vacina_part1)\n",
    "print(\"----------------------------------------------------------\")\n",
    "vacina_part2 = filtrar(df_vacina_part2)\n",
    "print(\"----------------------------------------------------------\")\n",
    "vacina_part3 = filtrar(df_vacina_part3)"
   ]
  },
  {
   "cell_type": "code",
   "execution_count": 48,
   "metadata": {},
   "outputs": [],
   "source": [
    "# Produção de dataset com o total de imunizados em cada cidade\n",
    "vacina_full = vacina_part1 + vacina_part2 + vacina_part3\n",
    "vacina_full.to_csv('Número_vacinados.csv')"
   ]
  },
  {
   "cell_type": "markdown",
   "metadata": {},
   "source": [
    "## 2th Clusterização"
   ]
  },
  {
   "cell_type": "code",
   "execution_count": 65,
   "metadata": {},
   "outputs": [
    {
     "data": {
      "text/html": [
       "<div>\n",
       "<style scoped>\n",
       "    .dataframe tbody tr th:only-of-type {\n",
       "        vertical-align: middle;\n",
       "    }\n",
       "\n",
       "    .dataframe tbody tr th {\n",
       "        vertical-align: top;\n",
       "    }\n",
       "\n",
       "    .dataframe thead th {\n",
       "        text-align: right;\n",
       "    }\n",
       "</style>\n",
       "<table border=\"1\" class=\"dataframe\">\n",
       "  <thead>\n",
       "    <tr style=\"text-align: right;\">\n",
       "      <th></th>\n",
       "      <th>Município</th>\n",
       "      <th>Densidade demografica 2021</th>\n",
       "      <th>Estabelecimentos/10k_habitantes</th>\n",
       "      <th>Óbitos/10k_habitantes</th>\n",
       "    </tr>\n",
       "  </thead>\n",
       "  <tbody>\n",
       "    <tr>\n",
       "      <th>0</th>\n",
       "      <td>Água Branca</td>\n",
       "      <td>43.28</td>\n",
       "      <td>10.86</td>\n",
       "      <td>14.81</td>\n",
       "    </tr>\n",
       "    <tr>\n",
       "      <th>1</th>\n",
       "      <td>Anadia</td>\n",
       "      <td>94.06</td>\n",
       "      <td>6.85</td>\n",
       "      <td>21.13</td>\n",
       "    </tr>\n",
       "    <tr>\n",
       "      <th>2</th>\n",
       "      <td>Arapiraca</td>\n",
       "      <td>677.87</td>\n",
       "      <td>14.60</td>\n",
       "      <td>23.90</td>\n",
       "    </tr>\n",
       "    <tr>\n",
       "      <th>3</th>\n",
       "      <td>Atalaia</td>\n",
       "      <td>89.15</td>\n",
       "      <td>6.31</td>\n",
       "      <td>11.78</td>\n",
       "    </tr>\n",
       "    <tr>\n",
       "      <th>4</th>\n",
       "      <td>Barra de Santo Antônio</td>\n",
       "      <td>123.33</td>\n",
       "      <td>7.41</td>\n",
       "      <td>20.37</td>\n",
       "    </tr>\n",
       "  </tbody>\n",
       "</table>\n",
       "</div>"
      ],
      "text/plain": [
       "                Município  Densidade demografica 2021  \\\n",
       "0             Água Branca                       43.28   \n",
       "1                  Anadia                       94.06   \n",
       "2               Arapiraca                      677.87   \n",
       "3                 Atalaia                       89.15   \n",
       "4  Barra de Santo Antônio                      123.33   \n",
       "\n",
       "   Estabelecimentos/10k_habitantes  Óbitos/10k_habitantes  \n",
       "0                            10.86                  14.81  \n",
       "1                             6.85                  21.13  \n",
       "2                            14.60                  23.90  \n",
       "3                             6.31                  11.78  \n",
       "4                             7.41                  20.37  "
      ]
     },
     "execution_count": 65,
     "metadata": {},
     "output_type": "execute_result"
    }
   ],
   "source": [
    "df_Dados_2th_clus = pd.read_csv('AL_Dados_2th_Clusterização.csv')\n",
    "df_Dados_2th_clus = df_Dados_2th_clus[['Município', 'Densidade demografica 2021', 'Estabelecimentos/10k_habitantes', 'Óbitos/10k_habitantes']]\n",
    "df_Dados_2th_clus.head()"
   ]
  },
  {
   "cell_type": "code",
   "execution_count": 66,
   "metadata": {},
   "outputs": [
    {
     "data": {
      "text/plain": [
       "array([[-3.32958856e-01,  1.63401944e-01, -1.92427536e-01],\n",
       "       [-8.72056677e-02, -5.62903892e-01,  1.60830293e-01],\n",
       "       [ 2.73818167e+00,  8.40804394e-01,  3.15660070e-01],\n",
       "       [-1.10967939e-01, -6.60710663e-01, -3.61790071e-01],\n",
       "       [ 5.44484448e-02, -4.61474648e-01,  1.18349921e-01],\n",
       "       [ 7.31106674e-03, -8.47374565e-02, -3.57318453e-01],\n",
       "       [-2.59881402e-01, -3.58340711e-02, -3.23222365e-01],\n",
       "       [-2.35441591e-01,  3.39091884e-01,  1.70332482e-01],\n",
       "       [-4.45140009e-01,  6.23456014e-01, -3.54523692e-01],\n",
       "       [ 1.45383900e-01, -2.83973471e-01, -1.26586247e-03],\n",
       "       [-2.42168588e-01,  1.07253612e-01, -1.62244114e-01],\n",
       "       [-3.54785301e-01,  1.86948018e-01, -4.05947300e-01],\n",
       "       [ 5.55053207e-01, -5.33924108e-01, -1.58331448e-01],\n",
       "       [-3.04859479e-02, -5.04944324e-01, -5.38977938e-01],\n",
       "       [ 3.55130714e-01, -8.97982644e-01, -2.10872961e-01],\n",
       "       [-2.70044491e-01, -1.01038585e-01, -3.77999687e-01],\n",
       "       [-4.00180435e-01, -5.77393784e-01, -6.09964875e-01],\n",
       "       [-2.32150685e-01,  1.85030238e-02, -3.58995310e-01],\n",
       "       [-8.77864157e-02, -4.77775777e-01, -3.77440734e-01],\n",
       "       [-3.18246574e-01,  1.77891836e-01, -1.79012682e-01],\n",
       "       [ 3.52353656e-02,  1.10343369e+00,  1.40708012e-01],\n",
       "       [-3.18894222e-02, -2.35070086e-01, -4.85318521e-01],\n",
       "       [ 1.76308730e-01,  4.38603348e-02, -1.65038875e-01],\n",
       "       [-2.31666729e-01, -6.09996041e-01, -4.28864343e-01],\n",
       "       [-1.19050015e-01, -4.66908358e-01, -2.63973425e-01],\n",
       "       [-1.38166303e-01,  3.35469411e-01,  5.12970218e-01],\n",
       "       [-1.64493545e-01, -3.29254384e-01, -6.16113350e-01],\n",
       "       [-2.02726121e-01, -4.18004972e-01, -4.40043388e-01],\n",
       "       [ 6.81444181e-02, -2.53182451e-01, -4.66314144e-01],\n",
       "       [-3.31216612e-01, -6.71578082e-01, -4.38366531e-01],\n",
       "       [-3.56479150e-01, -3.90836425e-01, -1.48270307e-01],\n",
       "       [-1.50797572e-01, -6.69766845e-01, -3.20427604e-01],\n",
       "       [-2.57171244e-01, -6.44409534e-01, -2.69562948e-01],\n",
       "       [-1.71898082e-01, -4.59663412e-01, -2.99746370e-01],\n",
       "       [-2.62494768e-01, -1.87977937e-01, -5.21650418e-01],\n",
       "       [-3.03098731e-01, -5.23056689e-01, -5.03763946e-01],\n",
       "       [-3.73998381e-01,  1.69027431e+00, -4.81405855e-01],\n",
       "       [-3.80289817e-01, -1.02658044e+00, -7.00515142e-01],\n",
       "       [-6.36369787e-02, -5.15811743e-01,  3.89787004e-02],\n",
       "       [-2.78368546e-01, -2.29636376e-01, -6.31205061e-01],\n",
       "       [-3.75982603e-01, -7.02475646e-02, -3.88060827e-01],\n",
       "       [-1.50168428e-01, -6.04562331e-01, -3.95886159e-01],\n",
       "       [-3.17907804e-01, -4.48902536e-02, -3.41667790e-01],\n",
       "       [-5.95717428e-02,  8.35370684e-01,  1.10524590e-01],\n",
       "       [ 4.81491796e-01,  4.47766074e-01, -2.30436290e-01],\n",
       "       [-9.00126163e-02,  7.64625918e-02, -3.43344647e-01],\n",
       "       [ 9.25983635e+00,  1.03098423e+00,  6.08551055e-01],\n",
       "       [-3.24634802e-01, -6.20863460e-01, -3.46698360e-01],\n",
       "       [-5.94265558e-02, -1.58625251e+00, -9.53161564e-01],\n",
       "       [-4.13537639e-01,  3.10847249e+00,  2.20100605e+00],\n",
       "       [ 2.07669121e-01, -1.39245021e+00, -8.29633114e-01],\n",
       "       [-1.89804478e-01,  3.99235590e+00,  4.30378446e+00],\n",
       "       [-3.59140911e-01,  6.53895442e+00,  1.87569583e+00],\n",
       "       [-4.09085238e-01, -1.01209054e+00, -4.43397101e-01],\n",
       "       [-4.18589293e-02, -4.05326317e-01,  9.69946571e-04],\n",
       "       [ 2.29205192e-01, -6.09996041e-01, -1.29824883e-01],\n",
       "       [-3.88807454e-01,  2.41285113e-01,  3.11533687e-02],\n",
       "       [-1.41699187e-01,  7.23074021e-01,  7.08389793e-02],\n",
       "       [-2.13276376e-01, -7.83874745e-01, -1.74754781e-02],\n",
       "       [-2.54170713e-01, -3.92647661e-01, -4.54017194e-01],\n",
       "       [ 5.27844879e-03, -6.35353352e-01, -7.88270647e-01],\n",
       "       [-4.02019471e-01, -8.50890495e-01,  1.44921526e+00],\n",
       "       [-3.30103512e-01,  1.02011681e+00, -3.66820642e-01],\n",
       "       [-2.19954978e-01, -5.62903892e-01, -2.06960295e-01],\n",
       "       [-2.57461618e-01, -3.94458898e-01, -4.89231187e-01],\n",
       "       [ 9.89724569e-02, -1.40992331e-02, -5.78663549e-01],\n",
       "       [ 2.45804906e-01,  4.15163817e-01,  2.65913319e-01],\n",
       "       [-3.71626993e-01,  1.34422160e-01, -7.90506456e-01],\n",
       "       [-3.42057241e-01,  1.11611234e+00,  4.63782419e-01],\n",
       "       [ 1.60870513e-01, -3.25631911e-01, -6.66632771e-02],\n",
       "       [-2.48314838e-01, -1.42697024e-01, -4.34453865e-01],\n",
       "       [-2.33699347e-01, -1.26395896e-01,  5.63744455e+00],\n",
       "       [-9.24807952e-02,  8.84274070e-01, -8.19571973e-01],\n",
       "       [-1.87578278e-01,  2.03142603e-02,  9.19328512e-01],\n",
       "       [ 1.15814148e-01, -6.75200555e-01, -9.88375556e-01],\n",
       "       [-4.22442442e-01,  6.92283001e-01,  4.17857915e+00],\n",
       "       [-2.39071266e-01,  3.42714357e-01,  6.13367908e-02],\n",
       "       [-2.96468525e-01,  2.01437910e-01, -2.07519247e-01],\n",
       "       [-1.20114720e-01, -1.46319497e-01, -7.13371044e-01],\n",
       "       [-3.99018939e-01,  5.74552629e-01, -1.39886023e-01],\n",
       "       [-1.28777544e-01, -2.76728525e-01, -1.60567257e-01],\n",
       "       [-3.72933676e-01,  1.36233396e-01, -2.71798757e-01],\n",
       "       [ 7.03821482e-01, -6.78823028e-01,  3.46402444e-01],\n",
       "       [-2.93371202e-01, -1.66243099e-01,  1.59153437e-01],\n",
       "       [ 6.89254387e-01, -7.74925105e-02, -3.35519315e-01],\n",
       "       [-1.29183214e-02,  3.51770539e-01,  2.51380560e-01],\n",
       "       [-3.20666357e-01, -1.01038585e-01, -2.19470962e-02],\n",
       "       [-2.99565847e-01,  7.91901008e-01,  2.18423748e+00],\n",
       "       [-8.85607463e-02, -3.72724060e-01, -7.18401614e-01],\n",
       "       [-2.23197487e-01, -6.31730879e-01, -9.51484707e-01],\n",
       "       [-1.18178893e-01, -6.08184804e-01, -5.06558707e-01],\n",
       "       [ 3.56195418e-01, -4.08948790e-01, -6.34558775e-01],\n",
       "       [-3.32445008e-02, -4.57852175e-01,  8.48900527e-01],\n",
       "       [-1.34022780e-02,  4.06107634e-01,  7.16987794e-01],\n",
       "       [ 1.10429561e+00,  1.30799687e-01, -3.83589209e-01],\n",
       "       [-3.45832103e-01, -7.60328670e-01,  5.48743163e-01],\n",
       "       [-3.04937766e-01, -3.22009438e-01,  7.64285019e-02],\n",
       "       [ 9.18582941e-02,  3.51770539e-01, -2.71798757e-01],\n",
       "       [ 1.78438139e-01,  6.55951728e-02, -1.17527933e-01],\n",
       "       [-3.44089859e-01, -7.00557866e-01, -4.79728998e-01],\n",
       "       [ 2.16961089e-01, -3.76346533e-01, -1.72864207e-01],\n",
       "       [-2.04903926e-01, -1.10094768e-01, -1.27030121e-01]])"
      ]
     },
     "execution_count": 66,
     "metadata": {},
     "output_type": "execute_result"
    }
   ],
   "source": [
    "X_2th = df_Dados_2th_clus.values[:,1:]\n",
    "X_2th = np.nan_to_num(X_2th)\n",
    "Clus_2th = StandardScaler().fit_transform(X_2th)\n",
    "Clus_2th"
   ]
  },
  {
   "cell_type": "code",
   "execution_count": 67,
   "metadata": {},
   "outputs": [
    {
     "data": {
      "text/plain": [
       "array([0, 3, 2, 3, 3, 3, 0, 0, 0, 3, 0, 0, 4, 3, 4, 0, 0, 0, 3, 0, 3, 3,\n",
       "       3, 0, 3, 0, 0, 0, 3, 0, 0, 0, 0, 0, 0, 0, 0, 0, 3, 0, 0, 0, 0, 3,\n",
       "       4, 3, 1, 0, 3, 0, 3, 0, 0, 0, 3, 3, 0, 0, 0, 0, 3, 0, 0, 0, 0, 3,\n",
       "       3, 0, 0, 3, 0, 0, 3, 0, 3, 0, 0, 0, 3, 0, 3, 0, 4, 0, 4, 3, 0, 0,\n",
       "       3, 0, 3, 4, 3, 3, 4, 0, 0, 3, 3, 0, 3, 0], dtype=int32)"
      ]
     },
     "execution_count": 67,
     "metadata": {},
     "output_type": "execute_result"
    }
   ],
   "source": [
    "k_means_2th = KMeans(init = \"k-means++\", n_clusters = 5, n_init = 12)\n",
    "k_means_2th.fit(X_2th)\n",
    "labels_2th = k_means_2th.labels_\n",
    "labels_2th"
   ]
  },
  {
   "cell_type": "code",
   "execution_count": 69,
   "metadata": {},
   "outputs": [
    {
     "data": {
      "text/html": [
       "<div>\n",
       "<style scoped>\n",
       "    .dataframe tbody tr th:only-of-type {\n",
       "        vertical-align: middle;\n",
       "    }\n",
       "\n",
       "    .dataframe tbody tr th {\n",
       "        vertical-align: top;\n",
       "    }\n",
       "\n",
       "    .dataframe thead th {\n",
       "        text-align: right;\n",
       "    }\n",
       "</style>\n",
       "<table border=\"1\" class=\"dataframe\">\n",
       "  <thead>\n",
       "    <tr style=\"text-align: right;\">\n",
       "      <th></th>\n",
       "      <th>Município</th>\n",
       "      <th>Densidade demografica 2021</th>\n",
       "      <th>Estabelecimentos/10k_habitantes</th>\n",
       "      <th>Óbitos/10k_habitantes</th>\n",
       "      <th>Cluster</th>\n",
       "    </tr>\n",
       "  </thead>\n",
       "  <tbody>\n",
       "    <tr>\n",
       "      <th>0</th>\n",
       "      <td>Água Branca</td>\n",
       "      <td>43.28</td>\n",
       "      <td>10.86</td>\n",
       "      <td>14.81</td>\n",
       "      <td>0</td>\n",
       "    </tr>\n",
       "    <tr>\n",
       "      <th>1</th>\n",
       "      <td>Anadia</td>\n",
       "      <td>94.06</td>\n",
       "      <td>6.85</td>\n",
       "      <td>21.13</td>\n",
       "      <td>3</td>\n",
       "    </tr>\n",
       "    <tr>\n",
       "      <th>2</th>\n",
       "      <td>Arapiraca</td>\n",
       "      <td>677.87</td>\n",
       "      <td>14.60</td>\n",
       "      <td>23.90</td>\n",
       "      <td>2</td>\n",
       "    </tr>\n",
       "    <tr>\n",
       "      <th>3</th>\n",
       "      <td>Atalaia</td>\n",
       "      <td>89.15</td>\n",
       "      <td>6.31</td>\n",
       "      <td>11.78</td>\n",
       "      <td>3</td>\n",
       "    </tr>\n",
       "    <tr>\n",
       "      <th>4</th>\n",
       "      <td>Barra de Santo Antônio</td>\n",
       "      <td>123.33</td>\n",
       "      <td>7.41</td>\n",
       "      <td>20.37</td>\n",
       "      <td>3</td>\n",
       "    </tr>\n",
       "  </tbody>\n",
       "</table>\n",
       "</div>"
      ],
      "text/plain": [
       "                Município  Densidade demografica 2021  \\\n",
       "0             Água Branca                       43.28   \n",
       "1                  Anadia                       94.06   \n",
       "2               Arapiraca                      677.87   \n",
       "3                 Atalaia                       89.15   \n",
       "4  Barra de Santo Antônio                      123.33   \n",
       "\n",
       "   Estabelecimentos/10k_habitantes  Óbitos/10k_habitantes  Cluster  \n",
       "0                            10.86                  14.81        0  \n",
       "1                             6.85                  21.13        3  \n",
       "2                            14.60                  23.90        2  \n",
       "3                             6.31                  11.78        3  \n",
       "4                             7.41                  20.37        3  "
      ]
     },
     "execution_count": 69,
     "metadata": {},
     "output_type": "execute_result"
    }
   ],
   "source": [
    "df_Dados_2th_clus[\"Cluster\"] = labels_2th\n",
    "df_Dados_2th_clus.head(5)"
   ]
  },
  {
   "cell_type": "code",
   "execution_count": 70,
   "metadata": {},
   "outputs": [
    {
     "data": {
      "text/html": [
       "<div>\n",
       "<style scoped>\n",
       "    .dataframe tbody tr th:only-of-type {\n",
       "        vertical-align: middle;\n",
       "    }\n",
       "\n",
       "    .dataframe tbody tr th {\n",
       "        vertical-align: top;\n",
       "    }\n",
       "\n",
       "    .dataframe thead th {\n",
       "        text-align: right;\n",
       "    }\n",
       "</style>\n",
       "<table border=\"1\" class=\"dataframe\">\n",
       "  <thead>\n",
       "    <tr style=\"text-align: right;\">\n",
       "      <th></th>\n",
       "      <th>Densidade demografica 2021</th>\n",
       "      <th>Estabelecimentos/10k_habitantes</th>\n",
       "      <th>Óbitos/10k_habitantes</th>\n",
       "    </tr>\n",
       "    <tr>\n",
       "      <th>Cluster</th>\n",
       "      <th></th>\n",
       "      <th></th>\n",
       "      <th></th>\n",
       "    </tr>\n",
       "  </thead>\n",
       "  <tbody>\n",
       "    <tr>\n",
       "      <th>0</th>\n",
       "      <td>51.902241</td>\n",
       "      <td>10.719655</td>\n",
       "      <td>21.092069</td>\n",
       "    </tr>\n",
       "    <tr>\n",
       "      <th>1</th>\n",
       "      <td>2025.440000</td>\n",
       "      <td>15.650000</td>\n",
       "      <td>29.140000</td>\n",
       "    </tr>\n",
       "    <tr>\n",
       "      <th>2</th>\n",
       "      <td>677.870000</td>\n",
       "      <td>14.600000</td>\n",
       "      <td>23.900000</td>\n",
       "    </tr>\n",
       "    <tr>\n",
       "      <th>3</th>\n",
       "      <td>115.905714</td>\n",
       "      <td>8.718571</td>\n",
       "      <td>13.896286</td>\n",
       "    </tr>\n",
       "    <tr>\n",
       "      <th>4</th>\n",
       "      <td>237.392857</td>\n",
       "      <td>8.365714</td>\n",
       "      <td>14.145714</td>\n",
       "    </tr>\n",
       "  </tbody>\n",
       "</table>\n",
       "</div>"
      ],
      "text/plain": [
       "         Densidade demografica 2021  Estabelecimentos/10k_habitantes  \\\n",
       "Cluster                                                                \n",
       "0                         51.902241                        10.719655   \n",
       "1                       2025.440000                        15.650000   \n",
       "2                        677.870000                        14.600000   \n",
       "3                        115.905714                         8.718571   \n",
       "4                        237.392857                         8.365714   \n",
       "\n",
       "         Óbitos/10k_habitantes  \n",
       "Cluster                         \n",
       "0                    21.092069  \n",
       "1                    29.140000  \n",
       "2                    23.900000  \n",
       "3                    13.896286  \n",
       "4                    14.145714  "
      ]
     },
     "execution_count": 70,
     "metadata": {},
     "output_type": "execute_result"
    }
   ],
   "source": [
    "df_Dados_2th_clus.groupby('Cluster').mean()"
   ]
  },
  {
   "cell_type": "code",
   "execution_count": 76,
   "metadata": {},
   "outputs": [
    {
     "name": "stderr",
     "output_type": "stream",
     "text": [
      "/tmp/ipykernel_33842/135990447.py:10: DeprecationWarning: `np.float` is a deprecated alias for the builtin `float`. To silence this warning, use `float` by itself. Doing this will not modify any behavior and is safe. If you specifically wanted the numpy scalar type, use `np.float64` here.\n",
      "Deprecated in NumPy 1.20; for more details and guidance: https://numpy.org/devdocs/release/1.20.0-notes.html#deprecations\n",
      "  ax_2th.scatter(X_2th[:, 2], X_2th[:, 1], X_2th[:, 0], c= labels_2th.astype(np.float), s=180)\n"
     ]
    },
    {
     "data": {
      "text/plain": [
       "<mpl_toolkits.mplot3d.art3d.Path3DCollection at 0x7f4df473d670>"
      ]
     },
     "execution_count": 76,
     "metadata": {},
     "output_type": "execute_result"
    },
    {
     "data": {
      "image/png": "[encoded data removed]",
      "text/plain": [
       "<Figure size 576x432 with 1 Axes>"
      ]
     },
     "metadata": {
      "needs_background": "light"
     },
     "output_type": "display_data"
    }
   ],
   "source": [
    "fig_2th = plt.figure(1, figsize=(8, 6))\n",
    "plt.clf()\n",
    "ax_2th = Axes3D(fig_2th, rect=[0, 0, .95, 1], elev=8, azim=134)\n",
    "\n",
    "plt.cla()\n",
    "ax_2th.set_xlabel('Óbitos/10k_habitantes', fontsize=12)\n",
    "ax_2th.set_ylabel('Estabelecimentos/10k_habitantes', fontsize=12)\n",
    "ax_2th.set_zlabel('Densidade demografica', fontsize=12)\n",
    "\n",
    "ax_2th.scatter(X_2th[:, 2], X_2th[:, 1], X_2th[:, 0], c= labels_2th.astype(np.float), s=180)"
   ]
  }
 ],
 "metadata": {
  "interpreter": {
   "hash": "f9f85f796d01129d0dd105a088854619f454435301f6ffec2fea96ecbd9be4ac"
  },
  "kernelspec": {
   "display_name": "Python 3.9.5 64-bit",
   "language": "python",
   "name": "python3"
  },
  "language_info": {
   "codemirror_mode": {
    "name": "ipython",
    "version": 3
   },
   "file_extension": ".py",
   "mimetype": "text/x-python",
   "name": "python",
   "nbconvert_exporter": "python",
   "pygments_lexer": "ipython3",
   "version": "3.8.10"
  },
  "orig_nbformat": 4
 },
 "nbformat": 4,
 "nbformat_minor": 2
}
