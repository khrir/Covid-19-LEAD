{
 "cells": [
  {
   "cell_type": "markdown",
   "metadata": {},
   "source": [
    "## Seleção de óbitos em blocos trimestrais"
   ]
  },
  {
   "cell_type": "code",
   "execution_count": 13,
   "metadata": {},
   "outputs": [],
   "source": [
    "import pandas as pd\n",
    "import numpy as np\n",
    "\n",
    "df_full = pd.read_csv(\"caso_full_al.csv\")\n",
    "df_full = df_full[['date', 'city', 'new_confirmed', 'new_deaths']]\n",
    "\n",
    "\n",
    "def classificar(df):\n",
    "    verao = df.loc[(df['date'] >= '2020-12-01') & (df['date'] < '2021-03-01')]\n",
    "    verao = verao.groupby(['city'])\n",
    "    verao = verao[['new_confirmed', 'new_deaths']].agg([np.sum])\n",
    "    verao['season'] = 1\n",
    "    verao['city'] = verao.index\n",
    "\n",
    "    outono = df.loc[(df['date'] >= '2021-03-01') & (df['date'] < '2021-06-01')]\n",
    "    outono = outono.groupby(['city'])\n",
    "    outono = outono[['new_confirmed', 'new_deaths']].agg([np.sum])\n",
    "    outono['season'] = 2\n",
    "    outono['city'] = outono.index\n",
    "\n",
    "    inverno = df.loc[(df['date'] >= '2021-06-01') & (df['date'] < '2021-09-01')]\n",
    "    inverno = inverno.groupby(['city'])\n",
    "    inverno = inverno[['new_confirmed', 'new_deaths']].agg([np.sum])\n",
    "    inverno['season'] = 3\n",
    "    inverno['city'] = inverno.index\n",
    "\n",
    "    primavera = df.loc[(df['date'] >= '2021-09-01') & (df['date'] < '2021-12-01')]\n",
    "    primavera = primavera.groupby(['city'])\n",
    "    primavera = primavera[['new_confirmed', 'new_deaths']].agg([np.sum])\n",
    "    primavera['season'] = 4\n",
    "    primavera['city'] = primavera.index\n",
    "\n",
    "    resultado = pd.merge_ordered(verao, outono)\n",
    "    resultado = pd.merge_ordered(resultado, inverno)\n",
    "    resultado = pd.merge_ordered(resultado, primavera)\n",
    "\n",
    "    resultado.to_csv('city_season.csv', index=False)\n",
    "    return resultado\n",
    "\n"
   ]
  },
  {
   "cell_type": "code",
   "execution_count": 14,
   "metadata": {},
   "outputs": [
    {
     "name": "stdout",
     "output_type": "stream",
     "text": [
      "    new_confirmed new_deaths season                    city\n",
      "              sum        sum                               \n",
      "0              -8         -8      2  Importados/Indefinidos\n",
      "1               0          0      1  Importados/Indefinidos\n",
      "2               0          0      3  Importados/Indefinidos\n",
      "3               0          0      4      Colônia Leopoldina\n",
      "4               0          0      4  Importados/Indefinidos\n",
      "..            ...        ...    ...                     ...\n",
      "407          6838        126      3               Arapiraca\n",
      "408          7720        166      2               Arapiraca\n",
      "409         13797        482      3                  Maceió\n",
      "410         20005        320      1                  Maceió\n",
      "411         24482        807      2                  Maceió\n",
      "\n",
      "[412 rows x 4 columns]\n"
     ]
    }
   ],
   "source": [
    "cdf = classificar(df_full)\n",
    "print(cdf)\n"
   ]
  },
  {
   "cell_type": "code",
   "execution_count": null,
   "metadata": {},
   "outputs": [],
   "source": []
  }
 ],
 "metadata": {
  "interpreter": {
   "hash": "31f2aee4e71d21fbe5cf8b01ff0e069b9275f58929596ceb00d14d90e3e16cd6"
  },
  "kernelspec": {
   "display_name": "Python 3.8.10 64-bit",
   "language": "python",
   "name": "python3"
  },
  "language_info": {
   "codemirror_mode": {
    "name": "ipython",
    "version": 3
   },
   "file_extension": ".py",
   "mimetype": "text/x-python",
   "name": "python",
   "nbconvert_exporter": "python",
   "pygments_lexer": "ipython3",
   "version": "3.8.10"
  },
  "orig_nbformat": 4
 },
 "nbformat": 4,
 "nbformat_minor": 2
}
