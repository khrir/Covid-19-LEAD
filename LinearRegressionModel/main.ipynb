{
 "cells": [
  {
   "cell_type": "markdown",
   "metadata": {},
   "source": [
    "# Imports"
   ]
  },
  {
   "cell_type": "code",
   "execution_count": 16,
   "metadata": {},
   "outputs": [],
   "source": [
    "import pandas as pd\n",
    "import numpy as np\n",
    "import matplotlib.pyplot as plt\n",
    "from sklearn import linear_model\n",
    "from sklearn.metrics import mean_absolute_percentage_error\n",
    "from sklearn.metrics import r2_score"
   ]
  },
  {
   "cell_type": "markdown",
   "metadata": {},
   "source": [
    "# Read the data"
   ]
  },
  {
   "cell_type": "code",
   "execution_count": 3,
   "metadata": {},
   "outputs": [],
   "source": [
    "df_train = pd.read_csv(\"covid19-October20.csv\")\n",
    "df_test = pd.read_csv(\"covid19-test.csv\")\n",
    "df_train = df_train.sort_values('date')\n",
    "df_test = df_test.sort_values('date')"
   ]
  },
  {
   "cell_type": "markdown",
   "metadata": {},
   "source": [
    "# Select columns"
   ]
  },
  {
   "cell_type": "code",
   "execution_count": 4,
   "metadata": {},
   "outputs": [],
   "source": [
    "cdf_train = df_train[['new_confirmed', 'new_deaths','last_available_confirmed', 'last_available_deaths']]\n",
    "cdf_test = df_test[['new_confirmed', 'new_deaths','last_available_confirmed', 'last_available_deaths']]"
   ]
  },
  {
   "cell_type": "markdown",
   "metadata": {},
   "source": [
    "# Create train and test split"
   ]
  },
  {
   "cell_type": "code",
   "execution_count": 5,
   "metadata": {},
   "outputs": [],
   "source": [
    "train = cdf_train\n",
    "test = cdf_test"
   ]
  },
  {
   "cell_type": "markdown",
   "metadata": {},
   "source": [
    "# Linear regression model"
   ]
  },
  {
   "cell_type": "code",
   "execution_count": 6,
   "metadata": {},
   "outputs": [
    {
     "name": "stdout",
     "output_type": "stream",
     "text": [
      "Coefficient:  [[0.05234178]]\n",
      "Intercept:  [-2509.20450633]\n"
     ]
    }
   ],
   "source": [
    "regr = linear_model.LinearRegression()\n",
    "train_x = np.asanyarray(train[['last_available_confirmed']])\n",
    "train_y = np.asanyarray(train[['last_available_deaths']])\n",
    "\n",
    "# Training data\n",
    "regr.fit(train_x, train_y)\n",
    "\n",
    "# Coefficients\n",
    "print(\"Coefficient: \", regr.coef_)\n",
    "print(\"Intercept: \", regr.intercept_)"
   ]
  },
  {
   "cell_type": "markdown",
   "metadata": {},
   "source": [
    "# Plotting train model"
   ]
  },
  {
   "cell_type": "code",
   "execution_count": 7,
   "metadata": {},
   "outputs": [
    {
     "data": {
      "image/png": "[encoded data removed]",
      "text/plain": [
       "<Figure size 432x288 with 1 Axes>"
      ]
     },
     "metadata": {
      "needs_background": "light"
     },
     "output_type": "display_data"
    }
   ],
   "source": [
    "plt.scatter(train.last_available_confirmed, train.last_available_deaths, color='blue')\n",
    "plt.plot(train_x, regr.coef_[0][0] * train_x + regr.intercept_[0], '-r')\n",
    "plt.xlabel(\"Confirmed\")\n",
    "plt.ylabel(\"Deaths\")\n",
    "plt.title(\"Train model\")\n",
    "plt.show()"
   ]
  },
  {
   "cell_type": "markdown",
   "metadata": {},
   "source": [
    "# Evaluation"
   ]
  },
  {
   "cell_type": "code",
   "execution_count": 8,
   "metadata": {},
   "outputs": [],
   "source": [
    "test_x = np.asanyarray(test[['last_available_confirmed']])\n",
    "test_y = np.asanyarray(test[['last_available_deaths']])\n",
    "test_y_ = regr.predict(test_x)"
   ]
  },
  {
   "cell_type": "markdown",
   "metadata": {},
   "source": [
    "# Plotting test data"
   ]
  },
  {
   "cell_type": "code",
   "execution_count": 15,
   "metadata": {},
   "outputs": [
    {
     "data": {
      "image/png": "[encoded data removed]",
      "text/plain": [
       "<Figure size 432x288 with 1 Axes>"
      ]
     },
     "metadata": {
      "needs_background": "light"
     },
     "output_type": "display_data"
    },
    {
     "ename": "NameError",
     "evalue": "name 'mean_absolute_percentage_error' is not defined",
     "output_type": "error",
     "traceback": [
      "\u001b[0;31m---------------------------------------------------------------------------\u001b[0m",
      "\u001b[0;31mNameError\u001b[0m                                 Traceback (most recent call last)",
      "\u001b[0;32m<ipython-input-15-922f8c964f61>\u001b[0m in \u001b[0;36m<module>\u001b[0;34m\u001b[0m\n\u001b[1;32m      6\u001b[0m \u001b[0mplt\u001b[0m\u001b[0;34m.\u001b[0m\u001b[0mshow\u001b[0m\u001b[0;34m(\u001b[0m\u001b[0;34m)\u001b[0m\u001b[0;34m\u001b[0m\u001b[0;34m\u001b[0m\u001b[0m\n\u001b[1;32m      7\u001b[0m \u001b[0;34m\u001b[0m\u001b[0m\n\u001b[0;32m----> 8\u001b[0;31m \u001b[0mprint\u001b[0m\u001b[0;34m(\u001b[0m\u001b[0mmean_absolute_percentage_error\u001b[0m\u001b[0;34m(\u001b[0m\u001b[0mtest_y\u001b[0m\u001b[0;34m,\u001b[0m \u001b[0mtest_y_\u001b[0m\u001b[0;34m)\u001b[0m\u001b[0;34m)\u001b[0m\u001b[0;34m\u001b[0m\u001b[0;34m\u001b[0m\u001b[0m\n\u001b[0m\u001b[1;32m      9\u001b[0m \u001b[0;31m# Accuracy rate\u001b[0m\u001b[0;34m\u001b[0m\u001b[0;34m\u001b[0m\u001b[0;34m\u001b[0m\u001b[0m\n\u001b[1;32m     10\u001b[0m \u001b[0mprint\u001b[0m\u001b[0;34m(\u001b[0m\u001b[0;34m\"Mean absolute error: %.2f\"\u001b[0m \u001b[0;34m%\u001b[0m \u001b[0mnp\u001b[0m\u001b[0;34m.\u001b[0m\u001b[0mmean\u001b[0m\u001b[0;34m(\u001b[0m\u001b[0mnp\u001b[0m\u001b[0;34m.\u001b[0m\u001b[0mabsolute\u001b[0m\u001b[0;34m(\u001b[0m\u001b[0mtest_y_\u001b[0m \u001b[0;34m-\u001b[0m \u001b[0mtest_y\u001b[0m\u001b[0;34m)\u001b[0m\u001b[0;34m)\u001b[0m\u001b[0;34m)\u001b[0m\u001b[0;34m\u001b[0m\u001b[0;34m\u001b[0m\u001b[0m\n",
      "\u001b[0;31mNameError\u001b[0m: name 'mean_absolute_percentage_error' is not defined"
     ]
    }
   ],
   "source": [
    "plt.scatter(test_x, test_y, color='blue')\n",
    "plt.plot(test_x, regr.coef_ * test_x + regr.intercept_, '-r')\n",
    "plt.xlabel(\"Confirmed\")\n",
    "plt.ylabel(\"Deaths\")\n",
    "plt.title(\"Test model\")\n",
    "plt.show()\n",
    "\n",
    "print(mean_absolute_percentage_error(test_y, test_y_))\n",
    "# Accuracy rate\n",
    "print(\"Mean absolute error: %.2f\" % np.mean(np.absolute(test_y_ - test_y)))\n",
    "print(\"Residual sum of squares: %.2f\" % np.mean((test_y_ - test_y)**2))\n",
    "print(\"R2-score: %.5f\" % r2_score(test_y_, test_y))"
   ]
  },
  {
   "cell_type": "markdown",
   "metadata": {},
   "source": [
    "# Training with the last month"
   ]
  },
  {
   "cell_type": "code",
   "execution_count": 10,
   "metadata": {},
   "outputs": [],
   "source": [
    "# Read the data\n",
    "df_train21 = pd.read_csv(\"covid19-September21.csv\")\n",
    "\n",
    "# Select columns\n",
    "cdf_train21 = df_train21[['new_confirmed', 'new_deaths','last_available_confirmed', 'last_available_deaths']]\n",
    "\n",
    "train21 = cdf_train21"
   ]
  },
  {
   "cell_type": "markdown",
   "metadata": {},
   "source": [
    "# Linear regression model with the last month"
   ]
  },
  {
   "cell_type": "code",
   "execution_count": 11,
   "metadata": {},
   "outputs": [
    {
     "name": "stdout",
     "output_type": "stream",
     "text": [
      "Coefficient:  [[0.06189817]]\n",
      "Intercept:  [-8538.23476963]\n"
     ]
    }
   ],
   "source": [
    "regr21 = linear_model.LinearRegression()\n",
    "train21_x = np.asanyarray(train21[['last_available_confirmed']])\n",
    "train21_y = np.asanyarray(train21[['last_available_deaths']])\n",
    "\n",
    "# Training data\n",
    "regr21.fit(train21_x, train21_y)\n",
    "\n",
    "# Coefficients\n",
    "print(\"Coefficient: \", regr21.coef_)\n",
    "print(\"Intercept: \", regr21.intercept_)"
   ]
  },
  {
   "cell_type": "markdown",
   "metadata": {},
   "source": [
    "# Plotting train21 model"
   ]
  },
  {
   "cell_type": "code",
   "execution_count": 12,
   "metadata": {},
   "outputs": [
    {
     "data": {
      "image/png": "[encoded data removed]",
      "text/plain": [
       "<Figure size 432x288 with 1 Axes>"
      ]
     },
     "metadata": {
      "needs_background": "light"
     },
     "output_type": "display_data"
    }
   ],
   "source": [
    "plt.scatter(train21.last_available_confirmed, train21.last_available_deaths, color='blue')\n",
    "plt.plot(train21_x, regr21.coef_[0][0] * train21_x + regr21.intercept_[0], '-r')\n",
    "plt.xlabel(\"Confirmed\")\n",
    "plt.ylabel(\"Deaths\")\n",
    "plt.title(\"Train model\")\n",
    "plt.show()"
   ]
  },
  {
   "cell_type": "markdown",
   "metadata": {},
   "source": [
    "# Evaluation21"
   ]
  },
  {
   "cell_type": "code",
   "execution_count": 13,
   "metadata": {},
   "outputs": [],
   "source": [
    "test21_x = np.asanyarray(test[['last_available_confirmed']])\n",
    "test21_y = np.asanyarray(test[['last_available_deaths']])\n",
    "test21_y_ = regr21.predict(test21_x)"
   ]
  },
  {
   "cell_type": "markdown",
   "metadata": {},
   "source": [
    "# Plotting test model with the train21 equation "
   ]
  },
  {
   "cell_type": "code",
   "execution_count": 14,
   "metadata": {},
   "outputs": [
    {
     "data": {
      "image/png": "[encoded data removed]",
      "text/plain": [
       "<Figure size 432x288 with 1 Axes>"
      ]
     },
     "metadata": {
      "needs_background": "light"
     },
     "output_type": "display_data"
    },
    {
     "name": "stdout",
     "output_type": "stream",
     "text": [
      "Mean absolute error: 7.51\n",
      "Residual sum of squares: 76.30\n",
      "R2-score: 0.82575\n",
      "Variance score: 0.58\n"
     ]
    }
   ],
   "source": [
    "plt.scatter(test.last_available_confirmed, test.last_available_deaths, color='blue')\n",
    "plt.plot(test21_x, regr21.coef_[0][0] * test21_x + regr21.intercept_[0], '-r')\n",
    "plt.xlabel(\"Confirmed\")\n",
    "plt.ylabel(\"Deaths\")\n",
    "plt.title(\"Test model\")\n",
    "plt.show()\n",
    "\n",
    "# Accuracy rate\n",
    "print(\"Mean absolute error: %.2f\" % np.mean(np.absolute(test21_y_ - test21_y)))\n",
    "print(\"Residual sum of squares: %.2f\" % np.mean((test21_y_ - test21_y)**2))\n",
    "print(\"R2-score: %.5f\" % r2_score(test21_y_, test21_y))\n",
    "\n",
    "print('Variance score: %.2f' % regr21.score(test21_x, test21_y))"
   ]
  }
 ],
 "metadata": {
  "interpreter": {
   "hash": "9efa32af2e90ea00979c71d59cc7c23a6aec3afa082ad7888d3baecfce90a847"
  },
  "kernelspec": {
   "display_name": "Python 3.8.8 64-bit ('anaconda3': conda)",
   "name": "python3"
  },
  "language_info": {
   "codemirror_mode": {
    "name": "ipython",
    "version": 3
   },
   "file_extension": ".py",
   "mimetype": "text/x-python",
   "name": "python",
   "nbconvert_exporter": "python",
   "pygments_lexer": "ipython3",
   "version": "3.8.8"
  },
  "orig_nbformat": 4
 },
 "nbformat": 4,
 "nbformat_minor": 2
}
